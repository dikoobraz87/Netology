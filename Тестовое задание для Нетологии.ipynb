{
 "cells": [
  {
   "cell_type": "code",
   "execution_count": 138,
   "metadata": {},
   "outputs": [],
   "source": [
    "##pip install plotly\n",
    "\n",
    "import pandas as pd\n",
    "import matplotlib.pyplot as plt\n",
    "import seaborn as sns\n",
    "sns.set(rc={'figure.figsize':(11.7,10.27)})"
   ]
  },
  {
   "cell_type": "markdown",
   "metadata": {},
   "source": [
    "# Для выполнения работы использую датасет с Kaggle https://www.kaggle.com/datasets/ruchi798/data-science-job-salaries\n",
    "## В нем данные по зарплатам аналитиков в разных странах мира и с разными грейдами и позициями"
   ]
  },
  {
   "cell_type": "code",
   "execution_count": 7,
   "metadata": {},
   "outputs": [],
   "source": [
    "# грузим файл и удаляем лишнюю техническую колонку\n",
    "df = pd.read_csv ('ds_salaries.csv')\n",
    "df = df.drop(df.columns[0], axis=1)"
   ]
  },
  {
   "cell_type": "code",
   "execution_count": 140,
   "metadata": {
    "scrolled": true
   },
   "outputs": [
    {
     "data": {
      "text/html": [
       "<div>\n",
       "<style scoped>\n",
       "    .dataframe tbody tr th:only-of-type {\n",
       "        vertical-align: middle;\n",
       "    }\n",
       "\n",
       "    .dataframe tbody tr th {\n",
       "        vertical-align: top;\n",
       "    }\n",
       "\n",
       "    .dataframe thead th {\n",
       "        text-align: right;\n",
       "    }\n",
       "</style>\n",
       "<table border=\"1\" class=\"dataframe\">\n",
       "  <thead>\n",
       "    <tr style=\"text-align: right;\">\n",
       "      <th></th>\n",
       "      <th>work_year</th>\n",
       "      <th>experience_level</th>\n",
       "      <th>employment_type</th>\n",
       "      <th>job_title</th>\n",
       "      <th>salary</th>\n",
       "      <th>salary_currency</th>\n",
       "      <th>salary_in_usd</th>\n",
       "      <th>employee_residence</th>\n",
       "      <th>remote_ratio</th>\n",
       "      <th>company_location</th>\n",
       "      <th>company_size</th>\n",
       "      <th>experience_level_num</th>\n",
       "    </tr>\n",
       "  </thead>\n",
       "  <tbody>\n",
       "    <tr>\n",
       "      <th>0</th>\n",
       "      <td>2020</td>\n",
       "      <td>MI</td>\n",
       "      <td>FT</td>\n",
       "      <td>Data Scientist</td>\n",
       "      <td>70000</td>\n",
       "      <td>EUR</td>\n",
       "      <td>79833</td>\n",
       "      <td>DE</td>\n",
       "      <td>0</td>\n",
       "      <td>DE</td>\n",
       "      <td>L</td>\n",
       "      <td>2</td>\n",
       "    </tr>\n",
       "    <tr>\n",
       "      <th>1</th>\n",
       "      <td>2020</td>\n",
       "      <td>SE</td>\n",
       "      <td>FT</td>\n",
       "      <td>Machine Learning Scientist</td>\n",
       "      <td>260000</td>\n",
       "      <td>USD</td>\n",
       "      <td>260000</td>\n",
       "      <td>JP</td>\n",
       "      <td>0</td>\n",
       "      <td>JP</td>\n",
       "      <td>S</td>\n",
       "      <td>3</td>\n",
       "    </tr>\n",
       "    <tr>\n",
       "      <th>2</th>\n",
       "      <td>2020</td>\n",
       "      <td>SE</td>\n",
       "      <td>FT</td>\n",
       "      <td>Big Data Engineer</td>\n",
       "      <td>85000</td>\n",
       "      <td>GBP</td>\n",
       "      <td>109024</td>\n",
       "      <td>GB</td>\n",
       "      <td>50</td>\n",
       "      <td>GB</td>\n",
       "      <td>M</td>\n",
       "      <td>3</td>\n",
       "    </tr>\n",
       "    <tr>\n",
       "      <th>3</th>\n",
       "      <td>2020</td>\n",
       "      <td>MI</td>\n",
       "      <td>FT</td>\n",
       "      <td>Product Data Analyst</td>\n",
       "      <td>20000</td>\n",
       "      <td>USD</td>\n",
       "      <td>20000</td>\n",
       "      <td>HN</td>\n",
       "      <td>0</td>\n",
       "      <td>HN</td>\n",
       "      <td>S</td>\n",
       "      <td>2</td>\n",
       "    </tr>\n",
       "    <tr>\n",
       "      <th>4</th>\n",
       "      <td>2020</td>\n",
       "      <td>SE</td>\n",
       "      <td>FT</td>\n",
       "      <td>Machine Learning Engineer</td>\n",
       "      <td>150000</td>\n",
       "      <td>USD</td>\n",
       "      <td>150000</td>\n",
       "      <td>US</td>\n",
       "      <td>50</td>\n",
       "      <td>US</td>\n",
       "      <td>L</td>\n",
       "      <td>3</td>\n",
       "    </tr>\n",
       "  </tbody>\n",
       "</table>\n",
       "</div>"
      ],
      "text/plain": [
       "   work_year experience_level employment_type                   job_title  \\\n",
       "0       2020               MI              FT              Data Scientist   \n",
       "1       2020               SE              FT  Machine Learning Scientist   \n",
       "2       2020               SE              FT           Big Data Engineer   \n",
       "3       2020               MI              FT        Product Data Analyst   \n",
       "4       2020               SE              FT   Machine Learning Engineer   \n",
       "\n",
       "   salary salary_currency  salary_in_usd employee_residence  remote_ratio  \\\n",
       "0   70000             EUR          79833                 DE             0   \n",
       "1  260000             USD         260000                 JP             0   \n",
       "2   85000             GBP         109024                 GB            50   \n",
       "3   20000             USD          20000                 HN             0   \n",
       "4  150000             USD         150000                 US            50   \n",
       "\n",
       "  company_location company_size  experience_level_num  \n",
       "0               DE            L                     2  \n",
       "1               JP            S                     3  \n",
       "2               GB            M                     3  \n",
       "3               HN            S                     2  \n",
       "4               US            L                     3  "
      ]
     },
     "execution_count": 140,
     "metadata": {},
     "output_type": "execute_result"
    }
   ],
   "source": [
    "# добавим колонку с кодированием строковых значений грейдов, для дальнейшего анализа. Где джун будет иметь значение 1, а руководитель 4\n",
    "df['experience_level_num'] = df['experience_level']\n",
    "di = { \"EN\":1, 'MI':2,\"SE\":3,\"EX\":4 }\n",
    "df['experience_level_num'].replace(di, inplace=True)\n",
    "df.head()\n"
   ]
  },
  {
   "cell_type": "markdown",
   "metadata": {},
   "source": [
    "# Визуализация 1 Pie Chart"
   ]
  },
  {
   "cell_type": "code",
   "execution_count": 94,
   "metadata": {},
   "outputs": [
    {
     "data": {
      "text/plain": [
       "<matplotlib.axes._subplots.AxesSubplot at 0x1af37afcc88>"
      ]
     },
     "execution_count": 94,
     "metadata": {},
     "output_type": "execute_result"
    },
    {
     "data": {
      "image/png": "[encoded data removed]",
      "text/plain": [
       "<Figure size 842.4x739.44 with 1 Axes>"
      ]
     },
     "metadata": {},
     "output_type": "display_data"
    }
   ],
   "source": [
    "df.groupby(['experience_level']).count().plot(kind='pie', y='employment_type', autopct='%1.0f%%')\n"
   ]
  },
  {
   "cell_type": "markdown",
   "metadata": {},
   "source": [
    "### На рисунке выше\n",
    "##### EN - Entry-leve\n",
    "##### SE - Senior\n",
    "##### MI- Mid-level\n",
    "##### EX - Executive-level\n",
    "\n",
    "### Из графика видно, что большую часть специалистов в исследовании занимают специалисты уровня Sinior и Middle. Привел дополнительно статистику,  что процент таких людей = 80"
   ]
  },
  {
   "cell_type": "markdown",
   "metadata": {},
   "source": [
    "# Визуализация 2 Box Plot"
   ]
  },
  {
   "cell_type": "code",
   "execution_count": 59,
   "metadata": {},
   "outputs": [
    {
     "data": {
      "text/plain": [
       "[Text(0, 0, '-100,000.0K'),\n",
       " Text(0, 0, '0.0K'),\n",
       " Text(0, 0, '100,000.0K'),\n",
       " Text(0, 0, '200,000.0K'),\n",
       " Text(0, 0, '300,000.0K'),\n",
       " Text(0, 0, '400,000.0K'),\n",
       " Text(0, 0, '500,000.0K'),\n",
       " Text(0, 0, '600,000.0K'),\n",
       " Text(0, 0, '700,000.0K')]"
      ]
     },
     "execution_count": 59,
     "metadata": {},
     "output_type": "execute_result"
    },
    {
     "data": {
      "image/png": "[encoded data removed]",
      "text/plain": [
       "<Figure size 842.4x595.44 with 1 Axes>"
      ]
     },
     "metadata": {},
     "output_type": "display_data"
    }
   ],
   "source": [
    "boxplot = sns.boxplot(x=\"experience_level\", y=\"salary_in_usd\", data=df);\n",
    "boxplot.axes.set_title(\"Распределение уровня зп в зависимости от грейда\", fontsize=16)\n",
    "boxplot.set_xlabel(\"Грейд\", fontsize=14)\n",
    "boxplot.set_ylabel(\"ЗП в USD\", fontsize=14);\n",
    "ylabels = ['{:,}'.format(x) + 'K' for x in boxplot.get_yticks()]\n",
    "boxplot.set_yticklabels(ylabels)"
   ]
  },
  {
   "cell_type": "markdown",
   "metadata": {},
   "source": [
    "### На рисунке выше\n",
    "\n",
    "\n",
    "### Из графика видно, ЗП привязана к грейду в общем случае, но есть случаи, когда зп более младшего грейда выше, чем более старшего\n",
    "### Так же видно, что у руководитель, довольно широкий межквартильный размах. Что и логично. Так как зп руководителя сверху никак не ограничены сеткой"
   ]
  },
  {
   "cell_type": "markdown",
   "metadata": {},
   "source": [
    "# Визуализация 3 Тепловая карта (Матрица корреляций)"
   ]
  },
  {
   "cell_type": "code",
   "execution_count": 83,
   "metadata": {},
   "outputs": [
    {
     "data": {
      "text/plain": [
       "Text(0.5, 1.0, 'Матрица корреляций')"
      ]
     },
     "execution_count": 83,
     "metadata": {},
     "output_type": "execute_result"
    },
    {
     "data": {
      "image/png": "[encoded data removed]",
      "text/plain": [
       "<Figure size 842.4x739.44 with 2 Axes>"
      ]
     },
     "metadata": {},
     "output_type": "display_data"
    }
   ],
   "source": [
    "heatmap = sns.heatmap(df.corr(), vmin=-1, vmax=1, annot=True, cmap='BrBG')\n",
    "heatmap.axes.set_title(\"Матрица корреляций\", fontsize=16)"
   ]
  },
  {
   "cell_type": "markdown",
   "metadata": {},
   "source": [
    "### На рисунке выше изображена матрица корреляций. Для наглядности я закодировал переменную \"грейд\" числовыми значениями \"experience_level_num\"\n",
    "### Из матрицы отчетливо видна только одна зависимость между грейдом и зп в долларах. Что в общем-то логично. Но интересно, что значение коэффициента находится на среднем уровне, что подтверждает нашу гипотезу выше, о том, что бывают случаи, когда более низкий грейд получает больше чем более высокий"
   ]
  },
  {
   "cell_type": "markdown",
   "metadata": {},
   "source": [
    "# Визуализация 4 Bubble chart"
   ]
  },
  {
   "cell_type": "code",
   "execution_count": 141,
   "metadata": {},
   "outputs": [],
   "source": [
    "df.loc[df['column_name'] == some_value]"
   ]
  },
  {
   "cell_type": "code",
   "execution_count": 150,
   "metadata": {},
   "outputs": [
    {
     "data": {
      "application/vnd.plotly.v1+json": {
       "config": {
        "plotlyServerURL": "https://plot.ly"
       },
       "data": [
        {
         "hovertemplate": "<b>%{hovertext}</b><br><br>Название должности=3D Computer Vision Researcher<br>Объем рынка=%{x}<br>Средняя зп=%{y}<br>size=%{marker.size}<extra></extra>",
         "hovertext": [
          "3D Computer Vision Researcher"
         ],
         "legendgroup": "3D Computer Vision Researcher",
         "marker": {
          "color": "#636efa",
          "size": [
           100
          ],
          "sizemode": "area",
          "sizeref": 0.25,
          "symbol": "circle"
         },
         "mode": "markers",
         "name": "3D Computer Vision Researcher",
         "orientation": "v",
         "showlegend": true,
         "type": "scatter",
         "x": [
          1
         ],
         "xaxis": "x",
         "y": [
          5409
         ],
         "yaxis": "y"
        },
        {
         "hovertemplate": "<b>%{hovertext}</b><br><br>Название должности=AI Scientist<br>Объем рынка=%{x}<br>Средняя зп=%{y}<br>size=%{marker.size}<extra></extra>",
         "hovertext": [
          "AI Scientist"
         ],
         "legendgroup": "AI Scientist",
         "marker": {
          "color": "#EF553B",
          "size": [
           100
          ],
          "sizemode": "area",
          "sizeref": 0.25,
          "symbol": "circle"
         },
         "mode": "markers",
         "name": "AI Scientist",
         "orientation": "v",
         "showlegend": true,
         "type": "scatter",
         "x": [
          2
         ],
         "xaxis": "x",
         "y": [
          160000
         ],
         "yaxis": "y"
        },
        {
         "hovertemplate": "<b>%{hovertext}</b><br><br>Название должности=Applied Data Scientist<br>Объем рынка=%{x}<br>Средняя зп=%{y}<br>size=%{marker.size}<extra></extra>",
         "hovertext": [
          "Applied Data Scientist"
         ],
         "legendgroup": "Applied Data Scientist",
         "marker": {
          "color": "#00cc96",
          "size": [
           100
          ],
          "sizemode": "area",
          "sizeref": 0.25,
          "symbol": "circle"
         },
         "mode": "markers",
         "name": "Applied Data Scientist",
         "orientation": "v",
         "showlegend": true,
         "type": "scatter",
         "x": [
          2
         ],
         "xaxis": "x",
         "y": [
          105619
         ],
         "yaxis": "y"
        },
        {
         "hovertemplate": "<b>%{hovertext}</b><br><br>Название должности=Applied Machine Learning Scientist<br>Объем рынка=%{x}<br>Средняя зп=%{y}<br>size=%{marker.size}<extra></extra>",
         "hovertext": [
          "Applied Machine Learning Scientist"
         ],
         "legendgroup": "Applied Machine Learning Scientist",
         "marker": {
          "color": "#ab63fa",
          "size": [
           100
          ],
          "sizemode": "area",
          "sizeref": 0.25,
          "symbol": "circle"
         },
         "mode": "markers",
         "name": "Applied Machine Learning Scientist",
         "orientation": "v",
         "showlegend": true,
         "type": "scatter",
         "x": [
          3
         ],
         "xaxis": "x",
         "y": [
          178800
         ],
         "yaxis": "y"
        },
        {
         "hovertemplate": "<b>%{hovertext}</b><br><br>Название должности=BI Data Analyst<br>Объем рынка=%{x}<br>Средняя зп=%{y}<br>size=%{marker.size}<extra></extra>",
         "hovertext": [
          "BI Data Analyst"
         ],
         "legendgroup": "BI Data Analyst",
         "marker": {
          "color": "#FFA15A",
          "size": [
           100
          ],
          "sizemode": "area",
          "sizeref": 0.25,
          "symbol": "circle"
         },
         "mode": "markers",
         "name": "BI Data Analyst",
         "orientation": "v",
         "showlegend": true,
         "type": "scatter",
         "x": [
          3
         ],
         "xaxis": "x",
         "y": [
          78086.33333333333
         ],
         "yaxis": "y"
        },
        {
         "hovertemplate": "<b>%{hovertext}</b><br><br>Название должности=Big Data Engineer<br>Объем рынка=%{x}<br>Средняя зп=%{y}<br>size=%{marker.size}<extra></extra>",
         "hovertext": [
          "Big Data Engineer"
         ],
         "legendgroup": "Big Data Engineer",
         "marker": {
          "color": "#19d3f3",
          "size": [
           100
          ],
          "sizemode": "area",
          "sizeref": 0.25,
          "symbol": "circle"
         },
         "mode": "markers",
         "name": "Big Data Engineer",
         "orientation": "v",
         "showlegend": true,
         "type": "scatter",
         "x": [
          3
         ],
         "xaxis": "x",
         "y": [
          33537
         ],
         "yaxis": "y"
        },
        {
         "hovertemplate": "<b>%{hovertext}</b><br><br>Название должности=Business Data Analyst<br>Объем рынка=%{x}<br>Средняя зп=%{y}<br>size=%{marker.size}<extra></extra>",
         "hovertext": [
          "Business Data Analyst"
         ],
         "legendgroup": "Business Data Analyst",
         "marker": {
          "color": "#FF6692",
          "size": [
           100
          ],
          "sizemode": "area",
          "sizeref": 0.25,
          "symbol": "circle"
         },
         "mode": "markers",
         "name": "Business Data Analyst",
         "orientation": "v",
         "showlegend": true,
         "type": "scatter",
         "x": [
          3
         ],
         "xaxis": "x",
         "y": [
          74784.66666666667
         ],
         "yaxis": "y"
        },
        {
         "hovertemplate": "<b>%{hovertext}</b><br><br>Название должности=Cloud Data Engineer<br>Объем рынка=%{x}<br>Средняя зп=%{y}<br>size=%{marker.size}<extra></extra>",
         "hovertext": [
          "Cloud Data Engineer"
         ],
         "legendgroup": "Cloud Data Engineer",
         "marker": {
          "color": "#B6E880",
          "size": [
           100
          ],
          "sizemode": "area",
          "sizeref": 0.25,
          "symbol": "circle"
         },
         "mode": "markers",
         "name": "Cloud Data Engineer",
         "orientation": "v",
         "showlegend": true,
         "type": "scatter",
         "x": [
          1
         ],
         "xaxis": "x",
         "y": [
          89294
         ],
         "yaxis": "y"
        },
        {
         "hovertemplate": "<b>%{hovertext}</b><br><br>Название должности=Computer Vision Software Engineer<br>Объем рынка=%{x}<br>Средняя зп=%{y}<br>size=%{marker.size}<extra></extra>",
         "hovertext": [
          "Computer Vision Software Engineer"
         ],
         "legendgroup": "Computer Vision Software Engineer",
         "marker": {
          "color": "#FF97FF",
          "size": [
           100
          ],
          "sizemode": "area",
          "sizeref": 0.25,
          "symbol": "circle"
         },
         "mode": "markers",
         "name": "Computer Vision Software Engineer",
         "orientation": "v",
         "showlegend": true,
         "type": "scatter",
         "x": [
          1
         ],
         "xaxis": "x",
         "y": [
          95746
         ],
         "yaxis": "y"
        },
        {
         "hovertemplate": "<b>%{hovertext}</b><br><br>Название должности=Data Analyst<br>Объем рынка=%{x}<br>Средняя зп=%{y}<br>size=%{marker.size}<extra></extra>",
         "hovertext": [
          "Data Analyst"
         ],
         "legendgroup": "Data Analyst",
         "marker": {
          "color": "#FECB52",
          "size": [
           100
          ],
          "sizemode": "area",
          "sizeref": 0.25,
          "symbol": "circle"
         },
         "mode": "markers",
         "name": "Data Analyst",
         "orientation": "v",
         "showlegend": true,
         "type": "scatter",
         "x": [
          29
         ],
         "xaxis": "x",
         "y": [
          71699.20689655172
         ],
         "yaxis": "y"
        },
        {
         "hovertemplate": "<b>%{hovertext}</b><br><br>Название должности=Data Analytics Engineer<br>Объем рынка=%{x}<br>Средняя зп=%{y}<br>size=%{marker.size}<extra></extra>",
         "hovertext": [
          "Data Analytics Engineer"
         ],
         "legendgroup": "Data Analytics Engineer",
         "marker": {
          "color": "#636efa",
          "size": [
           100
          ],
          "sizemode": "area",
          "sizeref": 0.25,
          "symbol": "circle"
         },
         "mode": "markers",
         "name": "Data Analytics Engineer",
         "orientation": "v",
         "showlegend": true,
         "type": "scatter",
         "x": [
          1
         ],
         "xaxis": "x",
         "y": [
          110000
         ],
         "yaxis": "y"
        },
        {
         "hovertemplate": "<b>%{hovertext}</b><br><br>Название должности=Data Architect<br>Объем рынка=%{x}<br>Средняя зп=%{y}<br>size=%{marker.size}<extra></extra>",
         "hovertext": [
          "Data Architect"
         ],
         "legendgroup": "Data Architect",
         "marker": {
          "color": "#EF553B",
          "size": [
           100
          ],
          "sizemode": "area",
          "sizeref": 0.25,
          "symbol": "circle"
         },
         "mode": "markers",
         "name": "Data Architect",
         "orientation": "v",
         "showlegend": true,
         "type": "scatter",
         "x": [
          3
         ],
         "xaxis": "x",
         "y": [
          166666.66666666666
         ],
         "yaxis": "y"
        },
        {
         "hovertemplate": "<b>%{hovertext}</b><br><br>Название должности=Data Engineer<br>Объем рынка=%{x}<br>Средняя зп=%{y}<br>size=%{marker.size}<extra></extra>",
         "hovertext": [
          "Data Engineer"
         ],
         "legendgroup": "Data Engineer",
         "marker": {
          "color": "#00cc96",
          "size": [
           100
          ],
          "sizemode": "area",
          "sizeref": 0.25,
          "symbol": "circle"
         },
         "mode": "markers",
         "name": "Data Engineer",
         "orientation": "v",
         "showlegend": true,
         "type": "scatter",
         "x": [
          53
         ],
         "xaxis": "x",
         "y": [
          85985.6603773585
         ],
         "yaxis": "y"
        },
        {
         "hovertemplate": "<b>%{hovertext}</b><br><br>Название должности=Data Engineering Manager<br>Объем рынка=%{x}<br>Средняя зп=%{y}<br>size=%{marker.size}<extra></extra>",
         "hovertext": [
          "Data Engineering Manager"
         ],
         "legendgroup": "Data Engineering Manager",
         "marker": {
          "color": "#ab63fa",
          "size": [
           100
          ],
          "sizemode": "area",
          "sizeref": 0.25,
          "symbol": "circle"
         },
         "mode": "markers",
         "name": "Data Engineering Manager",
         "orientation": "v",
         "showlegend": true,
         "type": "scatter",
         "x": [
          1
         ],
         "xaxis": "x",
         "y": [
          59303
         ],
         "yaxis": "y"
        },
        {
         "hovertemplate": "<b>%{hovertext}</b><br><br>Название должности=Data Science Consultant<br>Объем рынка=%{x}<br>Средняя зп=%{y}<br>size=%{marker.size}<extra></extra>",
         "hovertext": [
          "Data Science Consultant"
         ],
         "legendgroup": "Data Science Consultant",
         "marker": {
          "color": "#FFA15A",
          "size": [
           100
          ],
          "sizemode": "area",
          "sizeref": 0.25,
          "symbol": "circle"
         },
         "mode": "markers",
         "name": "Data Science Consultant",
         "orientation": "v",
         "showlegend": true,
         "type": "scatter",
         "x": [
          1
         ],
         "xaxis": "x",
         "y": [
          103000
         ],
         "yaxis": "y"
        },
        {
         "hovertemplate": "<b>%{hovertext}</b><br><br>Название должности=Data Science Engineer<br>Объем рынка=%{x}<br>Средняя зп=%{y}<br>size=%{marker.size}<extra></extra>",
         "hovertext": [
          "Data Science Engineer"
         ],
         "legendgroup": "Data Science Engineer",
         "marker": {
          "color": "#19d3f3",
          "size": [
           100
          ],
          "sizemode": "area",
          "sizeref": 0.25,
          "symbol": "circle"
         },
         "mode": "markers",
         "name": "Data Science Engineer",
         "orientation": "v",
         "showlegend": true,
         "type": "scatter",
         "x": [
          1
         ],
         "xaxis": "x",
         "y": [
          40189
         ],
         "yaxis": "y"
        },
        {
         "hovertemplate": "<b>%{hovertext}</b><br><br>Название должности=Data Science Manager<br>Объем рынка=%{x}<br>Средняя зп=%{y}<br>size=%{marker.size}<extra></extra>",
         "hovertext": [
          "Data Science Manager"
         ],
         "legendgroup": "Data Science Manager",
         "marker": {
          "color": "#FF6692",
          "size": [
           100
          ],
          "sizemode": "area",
          "sizeref": 0.25,
          "symbol": "circle"
         },
         "mode": "markers",
         "name": "Data Science Manager",
         "orientation": "v",
         "showlegend": true,
         "type": "scatter",
         "x": [
          2
         ],
         "xaxis": "x",
         "y": [
          200000
         ],
         "yaxis": "y"
        },
        {
         "hovertemplate": "<b>%{hovertext}</b><br><br>Название должности=Data Scientist<br>Объем рынка=%{x}<br>Средняя зп=%{y}<br>size=%{marker.size}<extra></extra>",
         "hovertext": [
          "Data Scientist"
         ],
         "legendgroup": "Data Scientist",
         "marker": {
          "color": "#B6E880",
          "size": [
           100
          ],
          "sizemode": "area",
          "sizeref": 0.25,
          "symbol": "circle"
         },
         "mode": "markers",
         "name": "Data Scientist",
         "orientation": "v",
         "showlegend": true,
         "type": "scatter",
         "x": [
          60
         ],
         "xaxis": "x",
         "y": [
          82039.13333333333
         ],
         "yaxis": "y"
        },
        {
         "hovertemplate": "<b>%{hovertext}</b><br><br>Название должности=ETL Developer<br>Объем рынка=%{x}<br>Средняя зп=%{y}<br>size=%{marker.size}<extra></extra>",
         "hovertext": [
          "ETL Developer"
         ],
         "legendgroup": "ETL Developer",
         "marker": {
          "color": "#FF97FF",
          "size": [
           100
          ],
          "sizemode": "area",
          "sizeref": 0.25,
          "symbol": "circle"
         },
         "mode": "markers",
         "name": "ETL Developer",
         "orientation": "v",
         "showlegend": true,
         "type": "scatter",
         "x": [
          2
         ],
         "xaxis": "x",
         "y": [
          54957
         ],
         "yaxis": "y"
        },
        {
         "hovertemplate": "<b>%{hovertext}</b><br><br>Название должности=Financial Data Analyst<br>Объем рынка=%{x}<br>Средняя зп=%{y}<br>size=%{marker.size}<extra></extra>",
         "hovertext": [
          "Financial Data Analyst"
         ],
         "legendgroup": "Financial Data Analyst",
         "marker": {
          "color": "#FECB52",
          "size": [
           100
          ],
          "sizemode": "area",
          "sizeref": 0.25,
          "symbol": "circle"
         },
         "mode": "markers",
         "name": "Financial Data Analyst",
         "orientation": "v",
         "showlegend": true,
         "type": "scatter",
         "x": [
          1
         ],
         "xaxis": "x",
         "y": [
          450000
         ],
         "yaxis": "y"
        },
        {
         "hovertemplate": "<b>%{hovertext}</b><br><br>Название должности=Head of Data<br>Объем рынка=%{x}<br>Средняя зп=%{y}<br>size=%{marker.size}<extra></extra>",
         "hovertext": [
          "Head of Data"
         ],
         "legendgroup": "Head of Data",
         "marker": {
          "color": "#636efa",
          "size": [
           100
          ],
          "sizemode": "area",
          "sizeref": 0.25,
          "symbol": "circle"
         },
         "mode": "markers",
         "name": "Head of Data",
         "orientation": "v",
         "showlegend": true,
         "type": "scatter",
         "x": [
          1
         ],
         "xaxis": "x",
         "y": [
          32974
         ],
         "yaxis": "y"
        },
        {
         "hovertemplate": "<b>%{hovertext}</b><br><br>Название должности=Head of Data Science<br>Объем рынка=%{x}<br>Средняя зп=%{y}<br>size=%{marker.size}<extra></extra>",
         "hovertext": [
          "Head of Data Science"
         ],
         "legendgroup": "Head of Data Science",
         "marker": {
          "color": "#EF553B",
          "size": [
           100
          ],
          "sizemode": "area",
          "sizeref": 0.25,
          "symbol": "circle"
         },
         "mode": "markers",
         "name": "Head of Data Science",
         "orientation": "v",
         "showlegend": true,
         "type": "scatter",
         "x": [
          1
         ],
         "xaxis": "x",
         "y": [
          110000
         ],
         "yaxis": "y"
        },
        {
         "hovertemplate": "<b>%{hovertext}</b><br><br>Название должности=Lead Data Analyst<br>Объем рынка=%{x}<br>Средняя зп=%{y}<br>size=%{marker.size}<extra></extra>",
         "hovertext": [
          "Lead Data Analyst"
         ],
         "legendgroup": "Lead Data Analyst",
         "marker": {
          "color": "#00cc96",
          "size": [
           100
          ],
          "sizemode": "area",
          "sizeref": 0.25,
          "symbol": "circle"
         },
         "mode": "markers",
         "name": "Lead Data Analyst",
         "orientation": "v",
         "showlegend": true,
         "type": "scatter",
         "x": [
          2
         ],
         "xaxis": "x",
         "y": [
          53304.5
         ],
         "yaxis": "y"
        },
        {
         "hovertemplate": "<b>%{hovertext}</b><br><br>Название должности=Lead Data Engineer<br>Объем рынка=%{x}<br>Средняя зп=%{y}<br>size=%{marker.size}<extra></extra>",
         "hovertext": [
          "Lead Data Engineer"
         ],
         "legendgroup": "Lead Data Engineer",
         "marker": {
          "color": "#ab63fa",
          "size": [
           100
          ],
          "sizemode": "area",
          "sizeref": 0.25,
          "symbol": "circle"
         },
         "mode": "markers",
         "name": "Lead Data Engineer",
         "orientation": "v",
         "showlegend": true,
         "type": "scatter",
         "x": [
          1
         ],
         "xaxis": "x",
         "y": [
          56000
         ],
         "yaxis": "y"
        },
        {
         "hovertemplate": "<b>%{hovertext}</b><br><br>Название должности=Lead Data Scientist<br>Объем рынка=%{x}<br>Средняя зп=%{y}<br>size=%{marker.size}<extra></extra>",
         "hovertext": [
          "Lead Data Scientist"
         ],
         "legendgroup": "Lead Data Scientist",
         "marker": {
          "color": "#FFA15A",
          "size": [
           100
          ],
          "sizemode": "area",
          "sizeref": 0.25,
          "symbol": "circle"
         },
         "mode": "markers",
         "name": "Lead Data Scientist",
         "orientation": "v",
         "showlegend": true,
         "type": "scatter",
         "x": [
          1
         ],
         "xaxis": "x",
         "y": [
          115000
         ],
         "yaxis": "y"
        },
        {
         "hovertemplate": "<b>%{hovertext}</b><br><br>Название должности=ML Engineer<br>Объем рынка=%{x}<br>Средняя зп=%{y}<br>size=%{marker.size}<extra></extra>",
         "hovertext": [
          "ML Engineer"
         ],
         "legendgroup": "ML Engineer",
         "marker": {
          "color": "#19d3f3",
          "size": [
           100
          ],
          "sizemode": "area",
          "sizeref": 0.25,
          "symbol": "circle"
         },
         "mode": "markers",
         "name": "ML Engineer",
         "orientation": "v",
         "showlegend": true,
         "type": "scatter",
         "x": [
          3
         ],
         "xaxis": "x",
         "y": [
          137025
         ],
         "yaxis": "y"
        },
        {
         "hovertemplate": "<b>%{hovertext}</b><br><br>Название должности=Machine Learning Developer<br>Объем рынка=%{x}<br>Средняя зп=%{y}<br>size=%{marker.size}<extra></extra>",
         "hovertext": [
          "Machine Learning Developer"
         ],
         "legendgroup": "Machine Learning Developer",
         "marker": {
          "color": "#FF6692",
          "size": [
           100
          ],
          "sizemode": "area",
          "sizeref": 0.25,
          "symbol": "circle"
         },
         "mode": "markers",
         "name": "Machine Learning Developer",
         "orientation": "v",
         "showlegend": true,
         "type": "scatter",
         "x": [
          1
         ],
         "xaxis": "x",
         "y": [
          78791
         ],
         "yaxis": "y"
        },
        {
         "hovertemplate": "<b>%{hovertext}</b><br><br>Название должности=Machine Learning Engineer<br>Объем рынка=%{x}<br>Средняя зп=%{y}<br>size=%{marker.size}<extra></extra>",
         "hovertext": [
          "Machine Learning Engineer"
         ],
         "legendgroup": "Machine Learning Engineer",
         "marker": {
          "color": "#B6E880",
          "size": [
           100
          ],
          "sizemode": "area",
          "sizeref": 0.25,
          "symbol": "circle"
         },
         "mode": "markers",
         "name": "Machine Learning Engineer",
         "orientation": "v",
         "showlegend": true,
         "type": "scatter",
         "x": [
          12
         ],
         "xaxis": "x",
         "y": [
          74466.58333333333
         ],
         "yaxis": "y"
        },
        {
         "hovertemplate": "<b>%{hovertext}</b><br><br>Название должности=Machine Learning Infrastructure Engineer<br>Объем рынка=%{x}<br>Средняя зп=%{y}<br>size=%{marker.size}<extra></extra>",
         "hovertext": [
          "Machine Learning Infrastructure Engineer"
         ],
         "legendgroup": "Machine Learning Infrastructure Engineer",
         "marker": {
          "color": "#FF97FF",
          "size": [
           100
          ],
          "sizemode": "area",
          "sizeref": 0.25,
          "symbol": "circle"
         },
         "mode": "markers",
         "name": "Machine Learning Infrastructure Engineer",
         "orientation": "v",
         "showlegend": true,
         "type": "scatter",
         "x": [
          2
         ],
         "xaxis": "x",
         "y": [
          54217.5
         ],
         "yaxis": "y"
        },
        {
         "hovertemplate": "<b>%{hovertext}</b><br><br>Название должности=Machine Learning Scientist<br>Объем рынка=%{x}<br>Средняя зп=%{y}<br>size=%{marker.size}<extra></extra>",
         "hovertext": [
          "Machine Learning Scientist"
         ],
         "legendgroup": "Machine Learning Scientist",
         "marker": {
          "color": "#FECB52",
          "size": [
           100
          ],
          "sizemode": "area",
          "sizeref": 0.25,
          "symbol": "circle"
         },
         "mode": "markers",
         "name": "Machine Learning Scientist",
         "orientation": "v",
         "showlegend": true,
         "type": "scatter",
         "x": [
          4
         ],
         "xaxis": "x",
         "y": [
          109325
         ],
         "yaxis": "y"
        },
        {
         "hovertemplate": "<b>%{hovertext}</b><br><br>Название должности=NLP Engineer<br>Объем рынка=%{x}<br>Средняя зп=%{y}<br>size=%{marker.size}<extra></extra>",
         "hovertext": [
          "NLP Engineer"
         ],
         "legendgroup": "NLP Engineer",
         "marker": {
          "color": "#636efa",
          "size": [
           100
          ],
          "sizemode": "area",
          "sizeref": 0.25,
          "symbol": "circle"
         },
         "mode": "markers",
         "name": "NLP Engineer",
         "orientation": "v",
         "showlegend": true,
         "type": "scatter",
         "x": [
          1
         ],
         "xaxis": "x",
         "y": [
          37236
         ],
         "yaxis": "y"
        },
        {
         "hovertemplate": "<b>%{hovertext}</b><br><br>Название должности=Principal Data Analyst<br>Объем рынка=%{x}<br>Средняя зп=%{y}<br>size=%{marker.size}<extra></extra>",
         "hovertext": [
          "Principal Data Analyst"
         ],
         "legendgroup": "Principal Data Analyst",
         "marker": {
          "color": "#EF553B",
          "size": [
           100
          ],
          "sizemode": "area",
          "sizeref": 0.25,
          "symbol": "circle"
         },
         "mode": "markers",
         "name": "Principal Data Analyst",
         "orientation": "v",
         "showlegend": true,
         "type": "scatter",
         "x": [
          1
         ],
         "xaxis": "x",
         "y": [
          75000
         ],
         "yaxis": "y"
        },
        {
         "hovertemplate": "<b>%{hovertext}</b><br><br>Название должности=Principal Data Scientist<br>Объем рынка=%{x}<br>Средняя зп=%{y}<br>size=%{marker.size}<extra></extra>",
         "hovertext": [
          "Principal Data Scientist"
         ],
         "legendgroup": "Principal Data Scientist",
         "marker": {
          "color": "#00cc96",
          "size": [
           100
          ],
          "sizemode": "area",
          "sizeref": 0.25,
          "symbol": "circle"
         },
         "mode": "markers",
         "name": "Principal Data Scientist",
         "orientation": "v",
         "showlegend": true,
         "type": "scatter",
         "x": [
          1
         ],
         "xaxis": "x",
         "y": [
          151000
         ],
         "yaxis": "y"
        },
        {
         "hovertemplate": "<b>%{hovertext}</b><br><br>Название должности=Product Data Analyst<br>Объем рынка=%{x}<br>Средняя зп=%{y}<br>size=%{marker.size}<extra></extra>",
         "hovertext": [
          "Product Data Analyst"
         ],
         "legendgroup": "Product Data Analyst",
         "marker": {
          "color": "#ab63fa",
          "size": [
           100
          ],
          "sizemode": "area",
          "sizeref": 0.25,
          "symbol": "circle"
         },
         "mode": "markers",
         "name": "Product Data Analyst",
         "orientation": "v",
         "showlegend": true,
         "type": "scatter",
         "x": [
          2
         ],
         "xaxis": "x",
         "y": [
          13036
         ],
         "yaxis": "y"
        },
        {
         "hovertemplate": "<b>%{hovertext}</b><br><br>Название должности=Research Scientist<br>Объем рынка=%{x}<br>Средняя зп=%{y}<br>size=%{marker.size}<extra></extra>",
         "hovertext": [
          "Research Scientist"
         ],
         "legendgroup": "Research Scientist",
         "marker": {
          "color": "#FFA15A",
          "size": [
           100
          ],
          "sizemode": "area",
          "sizeref": 0.25,
          "symbol": "circle"
         },
         "mode": "markers",
         "name": "Research Scientist",
         "orientation": "v",
         "showlegend": true,
         "type": "scatter",
         "x": [
          7
         ],
         "xaxis": "x",
         "y": [
          136498.14285714287
         ],
         "yaxis": "y"
        }
       ],
       "layout": {
        "legend": {
         "itemsizing": "constant",
         "title": {
          "text": "Название должности"
         },
         "tracegroupgap": 0
        },
        "template": {
         "data": {
          "bar": [
           {
            "error_x": {
             "color": "#2a3f5f"
            },
            "error_y": {
             "color": "#2a3f5f"
            },
            "marker": {
             "line": {
              "color": "#E5ECF6",
              "width": 0.5
             },
             "pattern": {
              "fillmode": "overlay",
              "size": 10,
              "solidity": 0.2
             }
            },
            "type": "bar"
           }
          ],
          "barpolar": [
           {
            "marker": {
             "line": {
              "color": "#E5ECF6",
              "width": 0.5
             },
             "pattern": {
              "fillmode": "overlay",
              "size": 10,
              "solidity": 0.2
             }
            },
            "type": "barpolar"
           }
          ],
          "carpet": [
           {
            "aaxis": {
             "endlinecolor": "#2a3f5f",
             "gridcolor": "white",
             "linecolor": "white",
             "minorgridcolor": "white",
             "startlinecolor": "#2a3f5f"
            },
            "baxis": {
             "endlinecolor": "#2a3f5f",
             "gridcolor": "white",
             "linecolor": "white",
             "minorgridcolor": "white",
             "startlinecolor": "#2a3f5f"
            },
            "type": "carpet"
           }
          ],
          "choropleth": [
           {
            "colorbar": {
             "outlinewidth": 0,
             "ticks": ""
            },
            "type": "choropleth"
           }
          ],
          "contour": [
           {
            "colorbar": {
             "outlinewidth": 0,
             "ticks": ""
            },
            "colorscale": [
             [
              0,
              "#0d0887"
             ],
             [
              0.1111111111111111,
              "#46039f"
             ],
             [
              0.2222222222222222,
              "#7201a8"
             ],
             [
              0.3333333333333333,
              "#9c179e"
             ],
             [
              0.4444444444444444,
              "#bd3786"
             ],
             [
              0.5555555555555556,
              "#d8576b"
             ],
             [
              0.6666666666666666,
              "#ed7953"
             ],
             [
              0.7777777777777778,
              "#fb9f3a"
             ],
             [
              0.8888888888888888,
              "#fdca26"
             ],
             [
              1,
              "#f0f921"
             ]
            ],
            "type": "contour"
           }
          ],
          "contourcarpet": [
           {
            "colorbar": {
             "outlinewidth": 0,
             "ticks": ""
            },
            "type": "contourcarpet"
           }
          ],
          "heatmap": [
           {
            "colorbar": {
             "outlinewidth": 0,
             "ticks": ""
            },
            "colorscale": [
             [
              0,
              "#0d0887"
             ],
             [
              0.1111111111111111,
              "#46039f"
             ],
             [
              0.2222222222222222,
              "#7201a8"
             ],
             [
              0.3333333333333333,
              "#9c179e"
             ],
             [
              0.4444444444444444,
              "#bd3786"
             ],
             [
              0.5555555555555556,
              "#d8576b"
             ],
             [
              0.6666666666666666,
              "#ed7953"
             ],
             [
              0.7777777777777778,
              "#fb9f3a"
             ],
             [
              0.8888888888888888,
              "#fdca26"
             ],
             [
              1,
              "#f0f921"
             ]
            ],
            "type": "heatmap"
           }
          ],
          "heatmapgl": [
           {
            "colorbar": {
             "outlinewidth": 0,
             "ticks": ""
            },
            "colorscale": [
             [
              0,
              "#0d0887"
             ],
             [
              0.1111111111111111,
              "#46039f"
             ],
             [
              0.2222222222222222,
              "#7201a8"
             ],
             [
              0.3333333333333333,
              "#9c179e"
             ],
             [
              0.4444444444444444,
              "#bd3786"
             ],
             [
              0.5555555555555556,
              "#d8576b"
             ],
             [
              0.6666666666666666,
              "#ed7953"
             ],
             [
              0.7777777777777778,
              "#fb9f3a"
             ],
             [
              0.8888888888888888,
              "#fdca26"
             ],
             [
              1,
              "#f0f921"
             ]
            ],
            "type": "heatmapgl"
           }
          ],
          "histogram": [
           {
            "marker": {
             "pattern": {
              "fillmode": "overlay",
              "size": 10,
              "solidity": 0.2
             }
            },
            "type": "histogram"
           }
          ],
          "histogram2d": [
           {
            "colorbar": {
             "outlinewidth": 0,
             "ticks": ""
            },
            "colorscale": [
             [
              0,
              "#0d0887"
             ],
             [
              0.1111111111111111,
              "#46039f"
             ],
             [
              0.2222222222222222,
              "#7201a8"
             ],
             [
              0.3333333333333333,
              "#9c179e"
             ],
             [
              0.4444444444444444,
              "#bd3786"
             ],
             [
              0.5555555555555556,
              "#d8576b"
             ],
             [
              0.6666666666666666,
              "#ed7953"
             ],
             [
              0.7777777777777778,
              "#fb9f3a"
             ],
             [
              0.8888888888888888,
              "#fdca26"
             ],
             [
              1,
              "#f0f921"
             ]
            ],
            "type": "histogram2d"
           }
          ],
          "histogram2dcontour": [
           {
            "colorbar": {
             "outlinewidth": 0,
             "ticks": ""
            },
            "colorscale": [
             [
              0,
              "#0d0887"
             ],
             [
              0.1111111111111111,
              "#46039f"
             ],
             [
              0.2222222222222222,
              "#7201a8"
             ],
             [
              0.3333333333333333,
              "#9c179e"
             ],
             [
              0.4444444444444444,
              "#bd3786"
             ],
             [
              0.5555555555555556,
              "#d8576b"
             ],
             [
              0.6666666666666666,
              "#ed7953"
             ],
             [
              0.7777777777777778,
              "#fb9f3a"
             ],
             [
              0.8888888888888888,
              "#fdca26"
             ],
             [
              1,
              "#f0f921"
             ]
            ],
            "type": "histogram2dcontour"
           }
          ],
          "mesh3d": [
           {
            "colorbar": {
             "outlinewidth": 0,
             "ticks": ""
            },
            "type": "mesh3d"
           }
          ],
          "parcoords": [
           {
            "line": {
             "colorbar": {
              "outlinewidth": 0,
              "ticks": ""
             }
            },
            "type": "parcoords"
           }
          ],
          "pie": [
           {
            "automargin": true,
            "type": "pie"
           }
          ],
          "scatter": [
           {
            "fillpattern": {
             "fillmode": "overlay",
             "size": 10,
             "solidity": 0.2
            },
            "type": "scatter"
           }
          ],
          "scatter3d": [
           {
            "line": {
             "colorbar": {
              "outlinewidth": 0,
              "ticks": ""
             }
            },
            "marker": {
             "colorbar": {
              "outlinewidth": 0,
              "ticks": ""
             }
            },
            "type": "scatter3d"
           }
          ],
          "scattercarpet": [
           {
            "marker": {
             "colorbar": {
              "outlinewidth": 0,
              "ticks": ""
             }
            },
            "type": "scattercarpet"
           }
          ],
          "scattergeo": [
           {
            "marker": {
             "colorbar": {
              "outlinewidth": 0,
              "ticks": ""
             }
            },
            "type": "scattergeo"
           }
          ],
          "scattergl": [
           {
            "marker": {
             "colorbar": {
              "outlinewidth": 0,
              "ticks": ""
             }
            },
            "type": "scattergl"
           }
          ],
          "scattermapbox": [
           {
            "marker": {
             "colorbar": {
              "outlinewidth": 0,
              "ticks": ""
             }
            },
            "type": "scattermapbox"
           }
          ],
          "scatterpolar": [
           {
            "marker": {
             "colorbar": {
              "outlinewidth": 0,
              "ticks": ""
             }
            },
            "type": "scatterpolar"
           }
          ],
          "scatterpolargl": [
           {
            "marker": {
             "colorbar": {
              "outlinewidth": 0,
              "ticks": ""
             }
            },
            "type": "scatterpolargl"
           }
          ],
          "scatterternary": [
           {
            "marker": {
             "colorbar": {
              "outlinewidth": 0,
              "ticks": ""
             }
            },
            "type": "scatterternary"
           }
          ],
          "surface": [
           {
            "colorbar": {
             "outlinewidth": 0,
             "ticks": ""
            },
            "colorscale": [
             [
              0,
              "#0d0887"
             ],
             [
              0.1111111111111111,
              "#46039f"
             ],
             [
              0.2222222222222222,
              "#7201a8"
             ],
             [
              0.3333333333333333,
              "#9c179e"
             ],
             [
              0.4444444444444444,
              "#bd3786"
             ],
             [
              0.5555555555555556,
              "#d8576b"
             ],
             [
              0.6666666666666666,
              "#ed7953"
             ],
             [
              0.7777777777777778,
              "#fb9f3a"
             ],
             [
              0.8888888888888888,
              "#fdca26"
             ],
             [
              1,
              "#f0f921"
             ]
            ],
            "type": "surface"
           }
          ],
          "table": [
           {
            "cells": {
             "fill": {
              "color": "#EBF0F8"
             },
             "line": {
              "color": "white"
             }
            },
            "header": {
             "fill": {
              "color": "#C8D4E3"
             },
             "line": {
              "color": "white"
             }
            },
            "type": "table"
           }
          ]
         },
         "layout": {
          "annotationdefaults": {
           "arrowcolor": "#2a3f5f",
           "arrowhead": 0,
           "arrowwidth": 1
          },
          "autotypenumbers": "strict",
          "coloraxis": {
           "colorbar": {
            "outlinewidth": 0,
            "ticks": ""
           }
          },
          "colorscale": {
           "diverging": [
            [
             0,
             "#8e0152"
            ],
            [
             0.1,
             "#c51b7d"
            ],
            [
             0.2,
             "#de77ae"
            ],
            [
             0.3,
             "#f1b6da"
            ],
            [
             0.4,
             "#fde0ef"
            ],
            [
             0.5,
             "#f7f7f7"
            ],
            [
             0.6,
             "#e6f5d0"
            ],
            [
             0.7,
             "#b8e186"
            ],
            [
             0.8,
             "#7fbc41"
            ],
            [
             0.9,
             "#4d9221"
            ],
            [
             1,
             "#276419"
            ]
           ],
           "sequential": [
            [
             0,
             "#0d0887"
            ],
            [
             0.1111111111111111,
             "#46039f"
            ],
            [
             0.2222222222222222,
             "#7201a8"
            ],
            [
             0.3333333333333333,
             "#9c179e"
            ],
            [
             0.4444444444444444,
             "#bd3786"
            ],
            [
             0.5555555555555556,
             "#d8576b"
            ],
            [
             0.6666666666666666,
             "#ed7953"
            ],
            [
             0.7777777777777778,
             "#fb9f3a"
            ],
            [
             0.8888888888888888,
             "#fdca26"
            ],
            [
             1,
             "#f0f921"
            ]
           ],
           "sequentialminus": [
            [
             0,
             "#0d0887"
            ],
            [
             0.1111111111111111,
             "#46039f"
            ],
            [
             0.2222222222222222,
             "#7201a8"
            ],
            [
             0.3333333333333333,
             "#9c179e"
            ],
            [
             0.4444444444444444,
             "#bd3786"
            ],
            [
             0.5555555555555556,
             "#d8576b"
            ],
            [
             0.6666666666666666,
             "#ed7953"
            ],
            [
             0.7777777777777778,
             "#fb9f3a"
            ],
            [
             0.8888888888888888,
             "#fdca26"
            ],
            [
             1,
             "#f0f921"
            ]
           ]
          },
          "colorway": [
           "#636efa",
           "#EF553B",
           "#00cc96",
           "#ab63fa",
           "#FFA15A",
           "#19d3f3",
           "#FF6692",
           "#B6E880",
           "#FF97FF",
           "#FECB52"
          ],
          "font": {
           "color": "#2a3f5f"
          },
          "geo": {
           "bgcolor": "white",
           "lakecolor": "white",
           "landcolor": "#E5ECF6",
           "showlakes": true,
           "showland": true,
           "subunitcolor": "white"
          },
          "hoverlabel": {
           "align": "left"
          },
          "hovermode": "closest",
          "mapbox": {
           "style": "light"
          },
          "paper_bgcolor": "white",
          "plot_bgcolor": "#E5ECF6",
          "polar": {
           "angularaxis": {
            "gridcolor": "white",
            "linecolor": "white",
            "ticks": ""
           },
           "bgcolor": "#E5ECF6",
           "radialaxis": {
            "gridcolor": "white",
            "linecolor": "white",
            "ticks": ""
           }
          },
          "scene": {
           "xaxis": {
            "backgroundcolor": "#E5ECF6",
            "gridcolor": "white",
            "gridwidth": 2,
            "linecolor": "white",
            "showbackground": true,
            "ticks": "",
            "zerolinecolor": "white"
           },
           "yaxis": {
            "backgroundcolor": "#E5ECF6",
            "gridcolor": "white",
            "gridwidth": 2,
            "linecolor": "white",
            "showbackground": true,
            "ticks": "",
            "zerolinecolor": "white"
           },
           "zaxis": {
            "backgroundcolor": "#E5ECF6",
            "gridcolor": "white",
            "gridwidth": 2,
            "linecolor": "white",
            "showbackground": true,
            "ticks": "",
            "zerolinecolor": "white"
           }
          },
          "shapedefaults": {
           "line": {
            "color": "#2a3f5f"
           }
          },
          "ternary": {
           "aaxis": {
            "gridcolor": "white",
            "linecolor": "white",
            "ticks": ""
           },
           "baxis": {
            "gridcolor": "white",
            "linecolor": "white",
            "ticks": ""
           },
           "bgcolor": "#E5ECF6",
           "caxis": {
            "gridcolor": "white",
            "linecolor": "white",
            "ticks": ""
           }
          },
          "title": {
           "x": 0.05
          },
          "xaxis": {
           "automargin": true,
           "gridcolor": "white",
           "linecolor": "white",
           "ticks": "",
           "title": {
            "standoff": 15
           },
           "zerolinecolor": "white",
           "zerolinewidth": 2
          },
          "yaxis": {
           "automargin": true,
           "gridcolor": "white",
           "linecolor": "white",
           "ticks": "",
           "title": {
            "standoff": 15
           },
           "zerolinecolor": "white",
           "zerolinewidth": 2
          }
         }
        },
        "title": {
         "text": "Зарплаты и рынок труда"
        },
        "xaxis": {
         "anchor": "y",
         "domain": [
          0,
          1
         ],
         "title": {
          "text": "Объем рынка"
         }
        },
        "yaxis": {
         "anchor": "x",
         "domain": [
          0,
          1
         ],
         "title": {
          "text": "Средняя зп"
         }
        }
       }
      },
      "text/html": [
       "<div>                            <div id=\"6a97060d-4a43-4660-b5a6-369778ce17d8\" class=\"plotly-graph-div\" style=\"height:525px; width:100%;\"></div>            <script type=\"text/javascript\">                require([\"plotly\"], function(Plotly) {                    window.PLOTLYENV=window.PLOTLYENV || {};                                    if (document.getElementById(\"6a97060d-4a43-4660-b5a6-369778ce17d8\")) {                    Plotly.newPlot(                        \"6a97060d-4a43-4660-b5a6-369778ce17d8\",                        [{\"hovertemplate\":\"<b>%{hovertext}</b><br><br>\\u041d\\u0430\\u0437\\u0432\\u0430\\u043d\\u0438\\u0435 \\u0434\\u043e\\u043b\\u0436\\u043d\\u043e\\u0441\\u0442\\u0438=3D Computer Vision Researcher<br>\\u041e\\u0431\\u044a\\u0435\\u043c \\u0440\\u044b\\u043d\\u043a\\u0430=%{x}<br>\\u0421\\u0440\\u0435\\u0434\\u043d\\u044f\\u044f \\u0437\\u043f=%{y}<br>size=%{marker.size}<extra></extra>\",\"hovertext\":[\"3D Computer Vision Researcher\"],\"legendgroup\":\"3D Computer Vision Researcher\",\"marker\":{\"color\":\"#636efa\",\"size\":[100],\"sizemode\":\"area\",\"sizeref\":0.25,\"symbol\":\"circle\"},\"mode\":\"markers\",\"name\":\"3D Computer Vision Researcher\",\"orientation\":\"v\",\"showlegend\":true,\"x\":[1],\"xaxis\":\"x\",\"y\":[5409.0],\"yaxis\":\"y\",\"type\":\"scatter\"},{\"hovertemplate\":\"<b>%{hovertext}</b><br><br>\\u041d\\u0430\\u0437\\u0432\\u0430\\u043d\\u0438\\u0435 \\u0434\\u043e\\u043b\\u0436\\u043d\\u043e\\u0441\\u0442\\u0438=AI Scientist<br>\\u041e\\u0431\\u044a\\u0435\\u043c \\u0440\\u044b\\u043d\\u043a\\u0430=%{x}<br>\\u0421\\u0440\\u0435\\u0434\\u043d\\u044f\\u044f \\u0437\\u043f=%{y}<br>size=%{marker.size}<extra></extra>\",\"hovertext\":[\"AI Scientist\"],\"legendgroup\":\"AI Scientist\",\"marker\":{\"color\":\"#EF553B\",\"size\":[100],\"sizemode\":\"area\",\"sizeref\":0.25,\"symbol\":\"circle\"},\"mode\":\"markers\",\"name\":\"AI Scientist\",\"orientation\":\"v\",\"showlegend\":true,\"x\":[2],\"xaxis\":\"x\",\"y\":[160000.0],\"yaxis\":\"y\",\"type\":\"scatter\"},{\"hovertemplate\":\"<b>%{hovertext}</b><br><br>\\u041d\\u0430\\u0437\\u0432\\u0430\\u043d\\u0438\\u0435 \\u0434\\u043e\\u043b\\u0436\\u043d\\u043e\\u0441\\u0442\\u0438=Applied Data Scientist<br>\\u041e\\u0431\\u044a\\u0435\\u043c \\u0440\\u044b\\u043d\\u043a\\u0430=%{x}<br>\\u0421\\u0440\\u0435\\u0434\\u043d\\u044f\\u044f \\u0437\\u043f=%{y}<br>size=%{marker.size}<extra></extra>\",\"hovertext\":[\"Applied Data Scientist\"],\"legendgroup\":\"Applied Data Scientist\",\"marker\":{\"color\":\"#00cc96\",\"size\":[100],\"sizemode\":\"area\",\"sizeref\":0.25,\"symbol\":\"circle\"},\"mode\":\"markers\",\"name\":\"Applied Data Scientist\",\"orientation\":\"v\",\"showlegend\":true,\"x\":[2],\"xaxis\":\"x\",\"y\":[105619.0],\"yaxis\":\"y\",\"type\":\"scatter\"},{\"hovertemplate\":\"<b>%{hovertext}</b><br><br>\\u041d\\u0430\\u0437\\u0432\\u0430\\u043d\\u0438\\u0435 \\u0434\\u043e\\u043b\\u0436\\u043d\\u043e\\u0441\\u0442\\u0438=Applied Machine Learning Scientist<br>\\u041e\\u0431\\u044a\\u0435\\u043c \\u0440\\u044b\\u043d\\u043a\\u0430=%{x}<br>\\u0421\\u0440\\u0435\\u0434\\u043d\\u044f\\u044f \\u0437\\u043f=%{y}<br>size=%{marker.size}<extra></extra>\",\"hovertext\":[\"Applied Machine Learning Scientist\"],\"legendgroup\":\"Applied Machine Learning Scientist\",\"marker\":{\"color\":\"#ab63fa\",\"size\":[100],\"sizemode\":\"area\",\"sizeref\":0.25,\"symbol\":\"circle\"},\"mode\":\"markers\",\"name\":\"Applied Machine Learning Scientist\",\"orientation\":\"v\",\"showlegend\":true,\"x\":[3],\"xaxis\":\"x\",\"y\":[178800.0],\"yaxis\":\"y\",\"type\":\"scatter\"},{\"hovertemplate\":\"<b>%{hovertext}</b><br><br>\\u041d\\u0430\\u0437\\u0432\\u0430\\u043d\\u0438\\u0435 \\u0434\\u043e\\u043b\\u0436\\u043d\\u043e\\u0441\\u0442\\u0438=BI Data Analyst<br>\\u041e\\u0431\\u044a\\u0435\\u043c \\u0440\\u044b\\u043d\\u043a\\u0430=%{x}<br>\\u0421\\u0440\\u0435\\u0434\\u043d\\u044f\\u044f \\u0437\\u043f=%{y}<br>size=%{marker.size}<extra></extra>\",\"hovertext\":[\"BI Data Analyst\"],\"legendgroup\":\"BI Data Analyst\",\"marker\":{\"color\":\"#FFA15A\",\"size\":[100],\"sizemode\":\"area\",\"sizeref\":0.25,\"symbol\":\"circle\"},\"mode\":\"markers\",\"name\":\"BI Data Analyst\",\"orientation\":\"v\",\"showlegend\":true,\"x\":[3],\"xaxis\":\"x\",\"y\":[78086.33333333333],\"yaxis\":\"y\",\"type\":\"scatter\"},{\"hovertemplate\":\"<b>%{hovertext}</b><br><br>\\u041d\\u0430\\u0437\\u0432\\u0430\\u043d\\u0438\\u0435 \\u0434\\u043e\\u043b\\u0436\\u043d\\u043e\\u0441\\u0442\\u0438=Big Data Engineer<br>\\u041e\\u0431\\u044a\\u0435\\u043c \\u0440\\u044b\\u043d\\u043a\\u0430=%{x}<br>\\u0421\\u0440\\u0435\\u0434\\u043d\\u044f\\u044f \\u0437\\u043f=%{y}<br>size=%{marker.size}<extra></extra>\",\"hovertext\":[\"Big Data Engineer\"],\"legendgroup\":\"Big Data Engineer\",\"marker\":{\"color\":\"#19d3f3\",\"size\":[100],\"sizemode\":\"area\",\"sizeref\":0.25,\"symbol\":\"circle\"},\"mode\":\"markers\",\"name\":\"Big Data Engineer\",\"orientation\":\"v\",\"showlegend\":true,\"x\":[3],\"xaxis\":\"x\",\"y\":[33537.0],\"yaxis\":\"y\",\"type\":\"scatter\"},{\"hovertemplate\":\"<b>%{hovertext}</b><br><br>\\u041d\\u0430\\u0437\\u0432\\u0430\\u043d\\u0438\\u0435 \\u0434\\u043e\\u043b\\u0436\\u043d\\u043e\\u0441\\u0442\\u0438=Business Data Analyst<br>\\u041e\\u0431\\u044a\\u0435\\u043c \\u0440\\u044b\\u043d\\u043a\\u0430=%{x}<br>\\u0421\\u0440\\u0435\\u0434\\u043d\\u044f\\u044f \\u0437\\u043f=%{y}<br>size=%{marker.size}<extra></extra>\",\"hovertext\":[\"Business Data Analyst\"],\"legendgroup\":\"Business Data Analyst\",\"marker\":{\"color\":\"#FF6692\",\"size\":[100],\"sizemode\":\"area\",\"sizeref\":0.25,\"symbol\":\"circle\"},\"mode\":\"markers\",\"name\":\"Business Data Analyst\",\"orientation\":\"v\",\"showlegend\":true,\"x\":[3],\"xaxis\":\"x\",\"y\":[74784.66666666667],\"yaxis\":\"y\",\"type\":\"scatter\"},{\"hovertemplate\":\"<b>%{hovertext}</b><br><br>\\u041d\\u0430\\u0437\\u0432\\u0430\\u043d\\u0438\\u0435 \\u0434\\u043e\\u043b\\u0436\\u043d\\u043e\\u0441\\u0442\\u0438=Cloud Data Engineer<br>\\u041e\\u0431\\u044a\\u0435\\u043c \\u0440\\u044b\\u043d\\u043a\\u0430=%{x}<br>\\u0421\\u0440\\u0435\\u0434\\u043d\\u044f\\u044f \\u0437\\u043f=%{y}<br>size=%{marker.size}<extra></extra>\",\"hovertext\":[\"Cloud Data Engineer\"],\"legendgroup\":\"Cloud Data Engineer\",\"marker\":{\"color\":\"#B6E880\",\"size\":[100],\"sizemode\":\"area\",\"sizeref\":0.25,\"symbol\":\"circle\"},\"mode\":\"markers\",\"name\":\"Cloud Data Engineer\",\"orientation\":\"v\",\"showlegend\":true,\"x\":[1],\"xaxis\":\"x\",\"y\":[89294.0],\"yaxis\":\"y\",\"type\":\"scatter\"},{\"hovertemplate\":\"<b>%{hovertext}</b><br><br>\\u041d\\u0430\\u0437\\u0432\\u0430\\u043d\\u0438\\u0435 \\u0434\\u043e\\u043b\\u0436\\u043d\\u043e\\u0441\\u0442\\u0438=Computer Vision Software Engineer<br>\\u041e\\u0431\\u044a\\u0435\\u043c \\u0440\\u044b\\u043d\\u043a\\u0430=%{x}<br>\\u0421\\u0440\\u0435\\u0434\\u043d\\u044f\\u044f \\u0437\\u043f=%{y}<br>size=%{marker.size}<extra></extra>\",\"hovertext\":[\"Computer Vision Software Engineer\"],\"legendgroup\":\"Computer Vision Software Engineer\",\"marker\":{\"color\":\"#FF97FF\",\"size\":[100],\"sizemode\":\"area\",\"sizeref\":0.25,\"symbol\":\"circle\"},\"mode\":\"markers\",\"name\":\"Computer Vision Software Engineer\",\"orientation\":\"v\",\"showlegend\":true,\"x\":[1],\"xaxis\":\"x\",\"y\":[95746.0],\"yaxis\":\"y\",\"type\":\"scatter\"},{\"hovertemplate\":\"<b>%{hovertext}</b><br><br>\\u041d\\u0430\\u0437\\u0432\\u0430\\u043d\\u0438\\u0435 \\u0434\\u043e\\u043b\\u0436\\u043d\\u043e\\u0441\\u0442\\u0438=Data Analyst<br>\\u041e\\u0431\\u044a\\u0435\\u043c \\u0440\\u044b\\u043d\\u043a\\u0430=%{x}<br>\\u0421\\u0440\\u0435\\u0434\\u043d\\u044f\\u044f \\u0437\\u043f=%{y}<br>size=%{marker.size}<extra></extra>\",\"hovertext\":[\"Data Analyst\"],\"legendgroup\":\"Data Analyst\",\"marker\":{\"color\":\"#FECB52\",\"size\":[100],\"sizemode\":\"area\",\"sizeref\":0.25,\"symbol\":\"circle\"},\"mode\":\"markers\",\"name\":\"Data Analyst\",\"orientation\":\"v\",\"showlegend\":true,\"x\":[29],\"xaxis\":\"x\",\"y\":[71699.20689655172],\"yaxis\":\"y\",\"type\":\"scatter\"},{\"hovertemplate\":\"<b>%{hovertext}</b><br><br>\\u041d\\u0430\\u0437\\u0432\\u0430\\u043d\\u0438\\u0435 \\u0434\\u043e\\u043b\\u0436\\u043d\\u043e\\u0441\\u0442\\u0438=Data Analytics Engineer<br>\\u041e\\u0431\\u044a\\u0435\\u043c \\u0440\\u044b\\u043d\\u043a\\u0430=%{x}<br>\\u0421\\u0440\\u0435\\u0434\\u043d\\u044f\\u044f \\u0437\\u043f=%{y}<br>size=%{marker.size}<extra></extra>\",\"hovertext\":[\"Data Analytics Engineer\"],\"legendgroup\":\"Data Analytics Engineer\",\"marker\":{\"color\":\"#636efa\",\"size\":[100],\"sizemode\":\"area\",\"sizeref\":0.25,\"symbol\":\"circle\"},\"mode\":\"markers\",\"name\":\"Data Analytics Engineer\",\"orientation\":\"v\",\"showlegend\":true,\"x\":[1],\"xaxis\":\"x\",\"y\":[110000.0],\"yaxis\":\"y\",\"type\":\"scatter\"},{\"hovertemplate\":\"<b>%{hovertext}</b><br><br>\\u041d\\u0430\\u0437\\u0432\\u0430\\u043d\\u0438\\u0435 \\u0434\\u043e\\u043b\\u0436\\u043d\\u043e\\u0441\\u0442\\u0438=Data Architect<br>\\u041e\\u0431\\u044a\\u0435\\u043c \\u0440\\u044b\\u043d\\u043a\\u0430=%{x}<br>\\u0421\\u0440\\u0435\\u0434\\u043d\\u044f\\u044f \\u0437\\u043f=%{y}<br>size=%{marker.size}<extra></extra>\",\"hovertext\":[\"Data Architect\"],\"legendgroup\":\"Data Architect\",\"marker\":{\"color\":\"#EF553B\",\"size\":[100],\"sizemode\":\"area\",\"sizeref\":0.25,\"symbol\":\"circle\"},\"mode\":\"markers\",\"name\":\"Data Architect\",\"orientation\":\"v\",\"showlegend\":true,\"x\":[3],\"xaxis\":\"x\",\"y\":[166666.66666666666],\"yaxis\":\"y\",\"type\":\"scatter\"},{\"hovertemplate\":\"<b>%{hovertext}</b><br><br>\\u041d\\u0430\\u0437\\u0432\\u0430\\u043d\\u0438\\u0435 \\u0434\\u043e\\u043b\\u0436\\u043d\\u043e\\u0441\\u0442\\u0438=Data Engineer<br>\\u041e\\u0431\\u044a\\u0435\\u043c \\u0440\\u044b\\u043d\\u043a\\u0430=%{x}<br>\\u0421\\u0440\\u0435\\u0434\\u043d\\u044f\\u044f \\u0437\\u043f=%{y}<br>size=%{marker.size}<extra></extra>\",\"hovertext\":[\"Data Engineer\"],\"legendgroup\":\"Data Engineer\",\"marker\":{\"color\":\"#00cc96\",\"size\":[100],\"sizemode\":\"area\",\"sizeref\":0.25,\"symbol\":\"circle\"},\"mode\":\"markers\",\"name\":\"Data Engineer\",\"orientation\":\"v\",\"showlegend\":true,\"x\":[53],\"xaxis\":\"x\",\"y\":[85985.6603773585],\"yaxis\":\"y\",\"type\":\"scatter\"},{\"hovertemplate\":\"<b>%{hovertext}</b><br><br>\\u041d\\u0430\\u0437\\u0432\\u0430\\u043d\\u0438\\u0435 \\u0434\\u043e\\u043b\\u0436\\u043d\\u043e\\u0441\\u0442\\u0438=Data Engineering Manager<br>\\u041e\\u0431\\u044a\\u0435\\u043c \\u0440\\u044b\\u043d\\u043a\\u0430=%{x}<br>\\u0421\\u0440\\u0435\\u0434\\u043d\\u044f\\u044f \\u0437\\u043f=%{y}<br>size=%{marker.size}<extra></extra>\",\"hovertext\":[\"Data Engineering Manager\"],\"legendgroup\":\"Data Engineering Manager\",\"marker\":{\"color\":\"#ab63fa\",\"size\":[100],\"sizemode\":\"area\",\"sizeref\":0.25,\"symbol\":\"circle\"},\"mode\":\"markers\",\"name\":\"Data Engineering Manager\",\"orientation\":\"v\",\"showlegend\":true,\"x\":[1],\"xaxis\":\"x\",\"y\":[59303.0],\"yaxis\":\"y\",\"type\":\"scatter\"},{\"hovertemplate\":\"<b>%{hovertext}</b><br><br>\\u041d\\u0430\\u0437\\u0432\\u0430\\u043d\\u0438\\u0435 \\u0434\\u043e\\u043b\\u0436\\u043d\\u043e\\u0441\\u0442\\u0438=Data Science Consultant<br>\\u041e\\u0431\\u044a\\u0435\\u043c \\u0440\\u044b\\u043d\\u043a\\u0430=%{x}<br>\\u0421\\u0440\\u0435\\u0434\\u043d\\u044f\\u044f \\u0437\\u043f=%{y}<br>size=%{marker.size}<extra></extra>\",\"hovertext\":[\"Data Science Consultant\"],\"legendgroup\":\"Data Science Consultant\",\"marker\":{\"color\":\"#FFA15A\",\"size\":[100],\"sizemode\":\"area\",\"sizeref\":0.25,\"symbol\":\"circle\"},\"mode\":\"markers\",\"name\":\"Data Science Consultant\",\"orientation\":\"v\",\"showlegend\":true,\"x\":[1],\"xaxis\":\"x\",\"y\":[103000.0],\"yaxis\":\"y\",\"type\":\"scatter\"},{\"hovertemplate\":\"<b>%{hovertext}</b><br><br>\\u041d\\u0430\\u0437\\u0432\\u0430\\u043d\\u0438\\u0435 \\u0434\\u043e\\u043b\\u0436\\u043d\\u043e\\u0441\\u0442\\u0438=Data Science Engineer<br>\\u041e\\u0431\\u044a\\u0435\\u043c \\u0440\\u044b\\u043d\\u043a\\u0430=%{x}<br>\\u0421\\u0440\\u0435\\u0434\\u043d\\u044f\\u044f \\u0437\\u043f=%{y}<br>size=%{marker.size}<extra></extra>\",\"hovertext\":[\"Data Science Engineer\"],\"legendgroup\":\"Data Science Engineer\",\"marker\":{\"color\":\"#19d3f3\",\"size\":[100],\"sizemode\":\"area\",\"sizeref\":0.25,\"symbol\":\"circle\"},\"mode\":\"markers\",\"name\":\"Data Science Engineer\",\"orientation\":\"v\",\"showlegend\":true,\"x\":[1],\"xaxis\":\"x\",\"y\":[40189.0],\"yaxis\":\"y\",\"type\":\"scatter\"},{\"hovertemplate\":\"<b>%{hovertext}</b><br><br>\\u041d\\u0430\\u0437\\u0432\\u0430\\u043d\\u0438\\u0435 \\u0434\\u043e\\u043b\\u0436\\u043d\\u043e\\u0441\\u0442\\u0438=Data Science Manager<br>\\u041e\\u0431\\u044a\\u0435\\u043c \\u0440\\u044b\\u043d\\u043a\\u0430=%{x}<br>\\u0421\\u0440\\u0435\\u0434\\u043d\\u044f\\u044f \\u0437\\u043f=%{y}<br>size=%{marker.size}<extra></extra>\",\"hovertext\":[\"Data Science Manager\"],\"legendgroup\":\"Data Science Manager\",\"marker\":{\"color\":\"#FF6692\",\"size\":[100],\"sizemode\":\"area\",\"sizeref\":0.25,\"symbol\":\"circle\"},\"mode\":\"markers\",\"name\":\"Data Science Manager\",\"orientation\":\"v\",\"showlegend\":true,\"x\":[2],\"xaxis\":\"x\",\"y\":[200000.0],\"yaxis\":\"y\",\"type\":\"scatter\"},{\"hovertemplate\":\"<b>%{hovertext}</b><br><br>\\u041d\\u0430\\u0437\\u0432\\u0430\\u043d\\u0438\\u0435 \\u0434\\u043e\\u043b\\u0436\\u043d\\u043e\\u0441\\u0442\\u0438=Data Scientist<br>\\u041e\\u0431\\u044a\\u0435\\u043c \\u0440\\u044b\\u043d\\u043a\\u0430=%{x}<br>\\u0421\\u0440\\u0435\\u0434\\u043d\\u044f\\u044f \\u0437\\u043f=%{y}<br>size=%{marker.size}<extra></extra>\",\"hovertext\":[\"Data Scientist\"],\"legendgroup\":\"Data Scientist\",\"marker\":{\"color\":\"#B6E880\",\"size\":[100],\"sizemode\":\"area\",\"sizeref\":0.25,\"symbol\":\"circle\"},\"mode\":\"markers\",\"name\":\"Data Scientist\",\"orientation\":\"v\",\"showlegend\":true,\"x\":[60],\"xaxis\":\"x\",\"y\":[82039.13333333333],\"yaxis\":\"y\",\"type\":\"scatter\"},{\"hovertemplate\":\"<b>%{hovertext}</b><br><br>\\u041d\\u0430\\u0437\\u0432\\u0430\\u043d\\u0438\\u0435 \\u0434\\u043e\\u043b\\u0436\\u043d\\u043e\\u0441\\u0442\\u0438=ETL Developer<br>\\u041e\\u0431\\u044a\\u0435\\u043c \\u0440\\u044b\\u043d\\u043a\\u0430=%{x}<br>\\u0421\\u0440\\u0435\\u0434\\u043d\\u044f\\u044f \\u0437\\u043f=%{y}<br>size=%{marker.size}<extra></extra>\",\"hovertext\":[\"ETL Developer\"],\"legendgroup\":\"ETL Developer\",\"marker\":{\"color\":\"#FF97FF\",\"size\":[100],\"sizemode\":\"area\",\"sizeref\":0.25,\"symbol\":\"circle\"},\"mode\":\"markers\",\"name\":\"ETL Developer\",\"orientation\":\"v\",\"showlegend\":true,\"x\":[2],\"xaxis\":\"x\",\"y\":[54957.0],\"yaxis\":\"y\",\"type\":\"scatter\"},{\"hovertemplate\":\"<b>%{hovertext}</b><br><br>\\u041d\\u0430\\u0437\\u0432\\u0430\\u043d\\u0438\\u0435 \\u0434\\u043e\\u043b\\u0436\\u043d\\u043e\\u0441\\u0442\\u0438=Financial Data Analyst<br>\\u041e\\u0431\\u044a\\u0435\\u043c \\u0440\\u044b\\u043d\\u043a\\u0430=%{x}<br>\\u0421\\u0440\\u0435\\u0434\\u043d\\u044f\\u044f \\u0437\\u043f=%{y}<br>size=%{marker.size}<extra></extra>\",\"hovertext\":[\"Financial Data Analyst\"],\"legendgroup\":\"Financial Data Analyst\",\"marker\":{\"color\":\"#FECB52\",\"size\":[100],\"sizemode\":\"area\",\"sizeref\":0.25,\"symbol\":\"circle\"},\"mode\":\"markers\",\"name\":\"Financial Data Analyst\",\"orientation\":\"v\",\"showlegend\":true,\"x\":[1],\"xaxis\":\"x\",\"y\":[450000.0],\"yaxis\":\"y\",\"type\":\"scatter\"},{\"hovertemplate\":\"<b>%{hovertext}</b><br><br>\\u041d\\u0430\\u0437\\u0432\\u0430\\u043d\\u0438\\u0435 \\u0434\\u043e\\u043b\\u0436\\u043d\\u043e\\u0441\\u0442\\u0438=Head of Data<br>\\u041e\\u0431\\u044a\\u0435\\u043c \\u0440\\u044b\\u043d\\u043a\\u0430=%{x}<br>\\u0421\\u0440\\u0435\\u0434\\u043d\\u044f\\u044f \\u0437\\u043f=%{y}<br>size=%{marker.size}<extra></extra>\",\"hovertext\":[\"Head of Data\"],\"legendgroup\":\"Head of Data\",\"marker\":{\"color\":\"#636efa\",\"size\":[100],\"sizemode\":\"area\",\"sizeref\":0.25,\"symbol\":\"circle\"},\"mode\":\"markers\",\"name\":\"Head of Data\",\"orientation\":\"v\",\"showlegend\":true,\"x\":[1],\"xaxis\":\"x\",\"y\":[32974.0],\"yaxis\":\"y\",\"type\":\"scatter\"},{\"hovertemplate\":\"<b>%{hovertext}</b><br><br>\\u041d\\u0430\\u0437\\u0432\\u0430\\u043d\\u0438\\u0435 \\u0434\\u043e\\u043b\\u0436\\u043d\\u043e\\u0441\\u0442\\u0438=Head of Data Science<br>\\u041e\\u0431\\u044a\\u0435\\u043c \\u0440\\u044b\\u043d\\u043a\\u0430=%{x}<br>\\u0421\\u0440\\u0435\\u0434\\u043d\\u044f\\u044f \\u0437\\u043f=%{y}<br>size=%{marker.size}<extra></extra>\",\"hovertext\":[\"Head of Data Science\"],\"legendgroup\":\"Head of Data Science\",\"marker\":{\"color\":\"#EF553B\",\"size\":[100],\"sizemode\":\"area\",\"sizeref\":0.25,\"symbol\":\"circle\"},\"mode\":\"markers\",\"name\":\"Head of Data Science\",\"orientation\":\"v\",\"showlegend\":true,\"x\":[1],\"xaxis\":\"x\",\"y\":[110000.0],\"yaxis\":\"y\",\"type\":\"scatter\"},{\"hovertemplate\":\"<b>%{hovertext}</b><br><br>\\u041d\\u0430\\u0437\\u0432\\u0430\\u043d\\u0438\\u0435 \\u0434\\u043e\\u043b\\u0436\\u043d\\u043e\\u0441\\u0442\\u0438=Lead Data Analyst<br>\\u041e\\u0431\\u044a\\u0435\\u043c \\u0440\\u044b\\u043d\\u043a\\u0430=%{x}<br>\\u0421\\u0440\\u0435\\u0434\\u043d\\u044f\\u044f \\u0437\\u043f=%{y}<br>size=%{marker.size}<extra></extra>\",\"hovertext\":[\"Lead Data Analyst\"],\"legendgroup\":\"Lead Data Analyst\",\"marker\":{\"color\":\"#00cc96\",\"size\":[100],\"sizemode\":\"area\",\"sizeref\":0.25,\"symbol\":\"circle\"},\"mode\":\"markers\",\"name\":\"Lead Data Analyst\",\"orientation\":\"v\",\"showlegend\":true,\"x\":[2],\"xaxis\":\"x\",\"y\":[53304.5],\"yaxis\":\"y\",\"type\":\"scatter\"},{\"hovertemplate\":\"<b>%{hovertext}</b><br><br>\\u041d\\u0430\\u0437\\u0432\\u0430\\u043d\\u0438\\u0435 \\u0434\\u043e\\u043b\\u0436\\u043d\\u043e\\u0441\\u0442\\u0438=Lead Data Engineer<br>\\u041e\\u0431\\u044a\\u0435\\u043c \\u0440\\u044b\\u043d\\u043a\\u0430=%{x}<br>\\u0421\\u0440\\u0435\\u0434\\u043d\\u044f\\u044f \\u0437\\u043f=%{y}<br>size=%{marker.size}<extra></extra>\",\"hovertext\":[\"Lead Data Engineer\"],\"legendgroup\":\"Lead Data Engineer\",\"marker\":{\"color\":\"#ab63fa\",\"size\":[100],\"sizemode\":\"area\",\"sizeref\":0.25,\"symbol\":\"circle\"},\"mode\":\"markers\",\"name\":\"Lead Data Engineer\",\"orientation\":\"v\",\"showlegend\":true,\"x\":[1],\"xaxis\":\"x\",\"y\":[56000.0],\"yaxis\":\"y\",\"type\":\"scatter\"},{\"hovertemplate\":\"<b>%{hovertext}</b><br><br>\\u041d\\u0430\\u0437\\u0432\\u0430\\u043d\\u0438\\u0435 \\u0434\\u043e\\u043b\\u0436\\u043d\\u043e\\u0441\\u0442\\u0438=Lead Data Scientist<br>\\u041e\\u0431\\u044a\\u0435\\u043c \\u0440\\u044b\\u043d\\u043a\\u0430=%{x}<br>\\u0421\\u0440\\u0435\\u0434\\u043d\\u044f\\u044f \\u0437\\u043f=%{y}<br>size=%{marker.size}<extra></extra>\",\"hovertext\":[\"Lead Data Scientist\"],\"legendgroup\":\"Lead Data Scientist\",\"marker\":{\"color\":\"#FFA15A\",\"size\":[100],\"sizemode\":\"area\",\"sizeref\":0.25,\"symbol\":\"circle\"},\"mode\":\"markers\",\"name\":\"Lead Data Scientist\",\"orientation\":\"v\",\"showlegend\":true,\"x\":[1],\"xaxis\":\"x\",\"y\":[115000.0],\"yaxis\":\"y\",\"type\":\"scatter\"},{\"hovertemplate\":\"<b>%{hovertext}</b><br><br>\\u041d\\u0430\\u0437\\u0432\\u0430\\u043d\\u0438\\u0435 \\u0434\\u043e\\u043b\\u0436\\u043d\\u043e\\u0441\\u0442\\u0438=ML Engineer<br>\\u041e\\u0431\\u044a\\u0435\\u043c \\u0440\\u044b\\u043d\\u043a\\u0430=%{x}<br>\\u0421\\u0440\\u0435\\u0434\\u043d\\u044f\\u044f \\u0437\\u043f=%{y}<br>size=%{marker.size}<extra></extra>\",\"hovertext\":[\"ML Engineer\"],\"legendgroup\":\"ML Engineer\",\"marker\":{\"color\":\"#19d3f3\",\"size\":[100],\"sizemode\":\"area\",\"sizeref\":0.25,\"symbol\":\"circle\"},\"mode\":\"markers\",\"name\":\"ML Engineer\",\"orientation\":\"v\",\"showlegend\":true,\"x\":[3],\"xaxis\":\"x\",\"y\":[137025.0],\"yaxis\":\"y\",\"type\":\"scatter\"},{\"hovertemplate\":\"<b>%{hovertext}</b><br><br>\\u041d\\u0430\\u0437\\u0432\\u0430\\u043d\\u0438\\u0435 \\u0434\\u043e\\u043b\\u0436\\u043d\\u043e\\u0441\\u0442\\u0438=Machine Learning Developer<br>\\u041e\\u0431\\u044a\\u0435\\u043c \\u0440\\u044b\\u043d\\u043a\\u0430=%{x}<br>\\u0421\\u0440\\u0435\\u0434\\u043d\\u044f\\u044f \\u0437\\u043f=%{y}<br>size=%{marker.size}<extra></extra>\",\"hovertext\":[\"Machine Learning Developer\"],\"legendgroup\":\"Machine Learning Developer\",\"marker\":{\"color\":\"#FF6692\",\"size\":[100],\"sizemode\":\"area\",\"sizeref\":0.25,\"symbol\":\"circle\"},\"mode\":\"markers\",\"name\":\"Machine Learning Developer\",\"orientation\":\"v\",\"showlegend\":true,\"x\":[1],\"xaxis\":\"x\",\"y\":[78791.0],\"yaxis\":\"y\",\"type\":\"scatter\"},{\"hovertemplate\":\"<b>%{hovertext}</b><br><br>\\u041d\\u0430\\u0437\\u0432\\u0430\\u043d\\u0438\\u0435 \\u0434\\u043e\\u043b\\u0436\\u043d\\u043e\\u0441\\u0442\\u0438=Machine Learning Engineer<br>\\u041e\\u0431\\u044a\\u0435\\u043c \\u0440\\u044b\\u043d\\u043a\\u0430=%{x}<br>\\u0421\\u0440\\u0435\\u0434\\u043d\\u044f\\u044f \\u0437\\u043f=%{y}<br>size=%{marker.size}<extra></extra>\",\"hovertext\":[\"Machine Learning Engineer\"],\"legendgroup\":\"Machine Learning Engineer\",\"marker\":{\"color\":\"#B6E880\",\"size\":[100],\"sizemode\":\"area\",\"sizeref\":0.25,\"symbol\":\"circle\"},\"mode\":\"markers\",\"name\":\"Machine Learning Engineer\",\"orientation\":\"v\",\"showlegend\":true,\"x\":[12],\"xaxis\":\"x\",\"y\":[74466.58333333333],\"yaxis\":\"y\",\"type\":\"scatter\"},{\"hovertemplate\":\"<b>%{hovertext}</b><br><br>\\u041d\\u0430\\u0437\\u0432\\u0430\\u043d\\u0438\\u0435 \\u0434\\u043e\\u043b\\u0436\\u043d\\u043e\\u0441\\u0442\\u0438=Machine Learning Infrastructure Engineer<br>\\u041e\\u0431\\u044a\\u0435\\u043c \\u0440\\u044b\\u043d\\u043a\\u0430=%{x}<br>\\u0421\\u0440\\u0435\\u0434\\u043d\\u044f\\u044f \\u0437\\u043f=%{y}<br>size=%{marker.size}<extra></extra>\",\"hovertext\":[\"Machine Learning Infrastructure Engineer\"],\"legendgroup\":\"Machine Learning Infrastructure Engineer\",\"marker\":{\"color\":\"#FF97FF\",\"size\":[100],\"sizemode\":\"area\",\"sizeref\":0.25,\"symbol\":\"circle\"},\"mode\":\"markers\",\"name\":\"Machine Learning Infrastructure Engineer\",\"orientation\":\"v\",\"showlegend\":true,\"x\":[2],\"xaxis\":\"x\",\"y\":[54217.5],\"yaxis\":\"y\",\"type\":\"scatter\"},{\"hovertemplate\":\"<b>%{hovertext}</b><br><br>\\u041d\\u0430\\u0437\\u0432\\u0430\\u043d\\u0438\\u0435 \\u0434\\u043e\\u043b\\u0436\\u043d\\u043e\\u0441\\u0442\\u0438=Machine Learning Scientist<br>\\u041e\\u0431\\u044a\\u0435\\u043c \\u0440\\u044b\\u043d\\u043a\\u0430=%{x}<br>\\u0421\\u0440\\u0435\\u0434\\u043d\\u044f\\u044f \\u0437\\u043f=%{y}<br>size=%{marker.size}<extra></extra>\",\"hovertext\":[\"Machine Learning Scientist\"],\"legendgroup\":\"Machine Learning Scientist\",\"marker\":{\"color\":\"#FECB52\",\"size\":[100],\"sizemode\":\"area\",\"sizeref\":0.25,\"symbol\":\"circle\"},\"mode\":\"markers\",\"name\":\"Machine Learning Scientist\",\"orientation\":\"v\",\"showlegend\":true,\"x\":[4],\"xaxis\":\"x\",\"y\":[109325.0],\"yaxis\":\"y\",\"type\":\"scatter\"},{\"hovertemplate\":\"<b>%{hovertext}</b><br><br>\\u041d\\u0430\\u0437\\u0432\\u0430\\u043d\\u0438\\u0435 \\u0434\\u043e\\u043b\\u0436\\u043d\\u043e\\u0441\\u0442\\u0438=NLP Engineer<br>\\u041e\\u0431\\u044a\\u0435\\u043c \\u0440\\u044b\\u043d\\u043a\\u0430=%{x}<br>\\u0421\\u0440\\u0435\\u0434\\u043d\\u044f\\u044f \\u0437\\u043f=%{y}<br>size=%{marker.size}<extra></extra>\",\"hovertext\":[\"NLP Engineer\"],\"legendgroup\":\"NLP Engineer\",\"marker\":{\"color\":\"#636efa\",\"size\":[100],\"sizemode\":\"area\",\"sizeref\":0.25,\"symbol\":\"circle\"},\"mode\":\"markers\",\"name\":\"NLP Engineer\",\"orientation\":\"v\",\"showlegend\":true,\"x\":[1],\"xaxis\":\"x\",\"y\":[37236.0],\"yaxis\":\"y\",\"type\":\"scatter\"},{\"hovertemplate\":\"<b>%{hovertext}</b><br><br>\\u041d\\u0430\\u0437\\u0432\\u0430\\u043d\\u0438\\u0435 \\u0434\\u043e\\u043b\\u0436\\u043d\\u043e\\u0441\\u0442\\u0438=Principal Data Analyst<br>\\u041e\\u0431\\u044a\\u0435\\u043c \\u0440\\u044b\\u043d\\u043a\\u0430=%{x}<br>\\u0421\\u0440\\u0435\\u0434\\u043d\\u044f\\u044f \\u0437\\u043f=%{y}<br>size=%{marker.size}<extra></extra>\",\"hovertext\":[\"Principal Data Analyst\"],\"legendgroup\":\"Principal Data Analyst\",\"marker\":{\"color\":\"#EF553B\",\"size\":[100],\"sizemode\":\"area\",\"sizeref\":0.25,\"symbol\":\"circle\"},\"mode\":\"markers\",\"name\":\"Principal Data Analyst\",\"orientation\":\"v\",\"showlegend\":true,\"x\":[1],\"xaxis\":\"x\",\"y\":[75000.0],\"yaxis\":\"y\",\"type\":\"scatter\"},{\"hovertemplate\":\"<b>%{hovertext}</b><br><br>\\u041d\\u0430\\u0437\\u0432\\u0430\\u043d\\u0438\\u0435 \\u0434\\u043e\\u043b\\u0436\\u043d\\u043e\\u0441\\u0442\\u0438=Principal Data Scientist<br>\\u041e\\u0431\\u044a\\u0435\\u043c \\u0440\\u044b\\u043d\\u043a\\u0430=%{x}<br>\\u0421\\u0440\\u0435\\u0434\\u043d\\u044f\\u044f \\u0437\\u043f=%{y}<br>size=%{marker.size}<extra></extra>\",\"hovertext\":[\"Principal Data Scientist\"],\"legendgroup\":\"Principal Data Scientist\",\"marker\":{\"color\":\"#00cc96\",\"size\":[100],\"sizemode\":\"area\",\"sizeref\":0.25,\"symbol\":\"circle\"},\"mode\":\"markers\",\"name\":\"Principal Data Scientist\",\"orientation\":\"v\",\"showlegend\":true,\"x\":[1],\"xaxis\":\"x\",\"y\":[151000.0],\"yaxis\":\"y\",\"type\":\"scatter\"},{\"hovertemplate\":\"<b>%{hovertext}</b><br><br>\\u041d\\u0430\\u0437\\u0432\\u0430\\u043d\\u0438\\u0435 \\u0434\\u043e\\u043b\\u0436\\u043d\\u043e\\u0441\\u0442\\u0438=Product Data Analyst<br>\\u041e\\u0431\\u044a\\u0435\\u043c \\u0440\\u044b\\u043d\\u043a\\u0430=%{x}<br>\\u0421\\u0440\\u0435\\u0434\\u043d\\u044f\\u044f \\u0437\\u043f=%{y}<br>size=%{marker.size}<extra></extra>\",\"hovertext\":[\"Product Data Analyst\"],\"legendgroup\":\"Product Data Analyst\",\"marker\":{\"color\":\"#ab63fa\",\"size\":[100],\"sizemode\":\"area\",\"sizeref\":0.25,\"symbol\":\"circle\"},\"mode\":\"markers\",\"name\":\"Product Data Analyst\",\"orientation\":\"v\",\"showlegend\":true,\"x\":[2],\"xaxis\":\"x\",\"y\":[13036.0],\"yaxis\":\"y\",\"type\":\"scatter\"},{\"hovertemplate\":\"<b>%{hovertext}</b><br><br>\\u041d\\u0430\\u0437\\u0432\\u0430\\u043d\\u0438\\u0435 \\u0434\\u043e\\u043b\\u0436\\u043d\\u043e\\u0441\\u0442\\u0438=Research Scientist<br>\\u041e\\u0431\\u044a\\u0435\\u043c \\u0440\\u044b\\u043d\\u043a\\u0430=%{x}<br>\\u0421\\u0440\\u0435\\u0434\\u043d\\u044f\\u044f \\u0437\\u043f=%{y}<br>size=%{marker.size}<extra></extra>\",\"hovertext\":[\"Research Scientist\"],\"legendgroup\":\"Research Scientist\",\"marker\":{\"color\":\"#FFA15A\",\"size\":[100],\"sizemode\":\"area\",\"sizeref\":0.25,\"symbol\":\"circle\"},\"mode\":\"markers\",\"name\":\"Research Scientist\",\"orientation\":\"v\",\"showlegend\":true,\"x\":[7],\"xaxis\":\"x\",\"y\":[136498.14285714287],\"yaxis\":\"y\",\"type\":\"scatter\"}],                        {\"template\":{\"data\":{\"histogram2dcontour\":[{\"type\":\"histogram2dcontour\",\"colorbar\":{\"outlinewidth\":0,\"ticks\":\"\"},\"colorscale\":[[0.0,\"#0d0887\"],[0.1111111111111111,\"#46039f\"],[0.2222222222222222,\"#7201a8\"],[0.3333333333333333,\"#9c179e\"],[0.4444444444444444,\"#bd3786\"],[0.5555555555555556,\"#d8576b\"],[0.6666666666666666,\"#ed7953\"],[0.7777777777777778,\"#fb9f3a\"],[0.8888888888888888,\"#fdca26\"],[1.0,\"#f0f921\"]]}],\"choropleth\":[{\"type\":\"choropleth\",\"colorbar\":{\"outlinewidth\":0,\"ticks\":\"\"}}],\"histogram2d\":[{\"type\":\"histogram2d\",\"colorbar\":{\"outlinewidth\":0,\"ticks\":\"\"},\"colorscale\":[[0.0,\"#0d0887\"],[0.1111111111111111,\"#46039f\"],[0.2222222222222222,\"#7201a8\"],[0.3333333333333333,\"#9c179e\"],[0.4444444444444444,\"#bd3786\"],[0.5555555555555556,\"#d8576b\"],[0.6666666666666666,\"#ed7953\"],[0.7777777777777778,\"#fb9f3a\"],[0.8888888888888888,\"#fdca26\"],[1.0,\"#f0f921\"]]}],\"heatmap\":[{\"type\":\"heatmap\",\"colorbar\":{\"outlinewidth\":0,\"ticks\":\"\"},\"colorscale\":[[0.0,\"#0d0887\"],[0.1111111111111111,\"#46039f\"],[0.2222222222222222,\"#7201a8\"],[0.3333333333333333,\"#9c179e\"],[0.4444444444444444,\"#bd3786\"],[0.5555555555555556,\"#d8576b\"],[0.6666666666666666,\"#ed7953\"],[0.7777777777777778,\"#fb9f3a\"],[0.8888888888888888,\"#fdca26\"],[1.0,\"#f0f921\"]]}],\"heatmapgl\":[{\"type\":\"heatmapgl\",\"colorbar\":{\"outlinewidth\":0,\"ticks\":\"\"},\"colorscale\":[[0.0,\"#0d0887\"],[0.1111111111111111,\"#46039f\"],[0.2222222222222222,\"#7201a8\"],[0.3333333333333333,\"#9c179e\"],[0.4444444444444444,\"#bd3786\"],[0.5555555555555556,\"#d8576b\"],[0.6666666666666666,\"#ed7953\"],[0.7777777777777778,\"#fb9f3a\"],[0.8888888888888888,\"#fdca26\"],[1.0,\"#f0f921\"]]}],\"contourcarpet\":[{\"type\":\"contourcarpet\",\"colorbar\":{\"outlinewidth\":0,\"ticks\":\"\"}}],\"contour\":[{\"type\":\"contour\",\"colorbar\":{\"outlinewidth\":0,\"ticks\":\"\"},\"colorscale\":[[0.0,\"#0d0887\"],[0.1111111111111111,\"#46039f\"],[0.2222222222222222,\"#7201a8\"],[0.3333333333333333,\"#9c179e\"],[0.4444444444444444,\"#bd3786\"],[0.5555555555555556,\"#d8576b\"],[0.6666666666666666,\"#ed7953\"],[0.7777777777777778,\"#fb9f3a\"],[0.8888888888888888,\"#fdca26\"],[1.0,\"#f0f921\"]]}],\"surface\":[{\"type\":\"surface\",\"colorbar\":{\"outlinewidth\":0,\"ticks\":\"\"},\"colorscale\":[[0.0,\"#0d0887\"],[0.1111111111111111,\"#46039f\"],[0.2222222222222222,\"#7201a8\"],[0.3333333333333333,\"#9c179e\"],[0.4444444444444444,\"#bd3786\"],[0.5555555555555556,\"#d8576b\"],[0.6666666666666666,\"#ed7953\"],[0.7777777777777778,\"#fb9f3a\"],[0.8888888888888888,\"#fdca26\"],[1.0,\"#f0f921\"]]}],\"mesh3d\":[{\"type\":\"mesh3d\",\"colorbar\":{\"outlinewidth\":0,\"ticks\":\"\"}}],\"scatter\":[{\"fillpattern\":{\"fillmode\":\"overlay\",\"size\":10,\"solidity\":0.2},\"type\":\"scatter\"}],\"parcoords\":[{\"type\":\"parcoords\",\"line\":{\"colorbar\":{\"outlinewidth\":0,\"ticks\":\"\"}}}],\"scatterpolargl\":[{\"type\":\"scatterpolargl\",\"marker\":{\"colorbar\":{\"outlinewidth\":0,\"ticks\":\"\"}}}],\"bar\":[{\"error_x\":{\"color\":\"#2a3f5f\"},\"error_y\":{\"color\":\"#2a3f5f\"},\"marker\":{\"line\":{\"color\":\"#E5ECF6\",\"width\":0.5},\"pattern\":{\"fillmode\":\"overlay\",\"size\":10,\"solidity\":0.2}},\"type\":\"bar\"}],\"scattergeo\":[{\"type\":\"scattergeo\",\"marker\":{\"colorbar\":{\"outlinewidth\":0,\"ticks\":\"\"}}}],\"scatterpolar\":[{\"type\":\"scatterpolar\",\"marker\":{\"colorbar\":{\"outlinewidth\":0,\"ticks\":\"\"}}}],\"histogram\":[{\"marker\":{\"pattern\":{\"fillmode\":\"overlay\",\"size\":10,\"solidity\":0.2}},\"type\":\"histogram\"}],\"scattergl\":[{\"type\":\"scattergl\",\"marker\":{\"colorbar\":{\"outlinewidth\":0,\"ticks\":\"\"}}}],\"scatter3d\":[{\"type\":\"scatter3d\",\"line\":{\"colorbar\":{\"outlinewidth\":0,\"ticks\":\"\"}},\"marker\":{\"colorbar\":{\"outlinewidth\":0,\"ticks\":\"\"}}}],\"scattermapbox\":[{\"type\":\"scattermapbox\",\"marker\":{\"colorbar\":{\"outlinewidth\":0,\"ticks\":\"\"}}}],\"scatterternary\":[{\"type\":\"scatterternary\",\"marker\":{\"colorbar\":{\"outlinewidth\":0,\"ticks\":\"\"}}}],\"scattercarpet\":[{\"type\":\"scattercarpet\",\"marker\":{\"colorbar\":{\"outlinewidth\":0,\"ticks\":\"\"}}}],\"carpet\":[{\"aaxis\":{\"endlinecolor\":\"#2a3f5f\",\"gridcolor\":\"white\",\"linecolor\":\"white\",\"minorgridcolor\":\"white\",\"startlinecolor\":\"#2a3f5f\"},\"baxis\":{\"endlinecolor\":\"#2a3f5f\",\"gridcolor\":\"white\",\"linecolor\":\"white\",\"minorgridcolor\":\"white\",\"startlinecolor\":\"#2a3f5f\"},\"type\":\"carpet\"}],\"table\":[{\"cells\":{\"fill\":{\"color\":\"#EBF0F8\"},\"line\":{\"color\":\"white\"}},\"header\":{\"fill\":{\"color\":\"#C8D4E3\"},\"line\":{\"color\":\"white\"}},\"type\":\"table\"}],\"barpolar\":[{\"marker\":{\"line\":{\"color\":\"#E5ECF6\",\"width\":0.5},\"pattern\":{\"fillmode\":\"overlay\",\"size\":10,\"solidity\":0.2}},\"type\":\"barpolar\"}],\"pie\":[{\"automargin\":true,\"type\":\"pie\"}]},\"layout\":{\"autotypenumbers\":\"strict\",\"colorway\":[\"#636efa\",\"#EF553B\",\"#00cc96\",\"#ab63fa\",\"#FFA15A\",\"#19d3f3\",\"#FF6692\",\"#B6E880\",\"#FF97FF\",\"#FECB52\"],\"font\":{\"color\":\"#2a3f5f\"},\"hovermode\":\"closest\",\"hoverlabel\":{\"align\":\"left\"},\"paper_bgcolor\":\"white\",\"plot_bgcolor\":\"#E5ECF6\",\"polar\":{\"bgcolor\":\"#E5ECF6\",\"angularaxis\":{\"gridcolor\":\"white\",\"linecolor\":\"white\",\"ticks\":\"\"},\"radialaxis\":{\"gridcolor\":\"white\",\"linecolor\":\"white\",\"ticks\":\"\"}},\"ternary\":{\"bgcolor\":\"#E5ECF6\",\"aaxis\":{\"gridcolor\":\"white\",\"linecolor\":\"white\",\"ticks\":\"\"},\"baxis\":{\"gridcolor\":\"white\",\"linecolor\":\"white\",\"ticks\":\"\"},\"caxis\":{\"gridcolor\":\"white\",\"linecolor\":\"white\",\"ticks\":\"\"}},\"coloraxis\":{\"colorbar\":{\"outlinewidth\":0,\"ticks\":\"\"}},\"colorscale\":{\"sequential\":[[0.0,\"#0d0887\"],[0.1111111111111111,\"#46039f\"],[0.2222222222222222,\"#7201a8\"],[0.3333333333333333,\"#9c179e\"],[0.4444444444444444,\"#bd3786\"],[0.5555555555555556,\"#d8576b\"],[0.6666666666666666,\"#ed7953\"],[0.7777777777777778,\"#fb9f3a\"],[0.8888888888888888,\"#fdca26\"],[1.0,\"#f0f921\"]],\"sequentialminus\":[[0.0,\"#0d0887\"],[0.1111111111111111,\"#46039f\"],[0.2222222222222222,\"#7201a8\"],[0.3333333333333333,\"#9c179e\"],[0.4444444444444444,\"#bd3786\"],[0.5555555555555556,\"#d8576b\"],[0.6666666666666666,\"#ed7953\"],[0.7777777777777778,\"#fb9f3a\"],[0.8888888888888888,\"#fdca26\"],[1.0,\"#f0f921\"]],\"diverging\":[[0,\"#8e0152\"],[0.1,\"#c51b7d\"],[0.2,\"#de77ae\"],[0.3,\"#f1b6da\"],[0.4,\"#fde0ef\"],[0.5,\"#f7f7f7\"],[0.6,\"#e6f5d0\"],[0.7,\"#b8e186\"],[0.8,\"#7fbc41\"],[0.9,\"#4d9221\"],[1,\"#276419\"]]},\"xaxis\":{\"gridcolor\":\"white\",\"linecolor\":\"white\",\"ticks\":\"\",\"title\":{\"standoff\":15},\"zerolinecolor\":\"white\",\"automargin\":true,\"zerolinewidth\":2},\"yaxis\":{\"gridcolor\":\"white\",\"linecolor\":\"white\",\"ticks\":\"\",\"title\":{\"standoff\":15},\"zerolinecolor\":\"white\",\"automargin\":true,\"zerolinewidth\":2},\"scene\":{\"xaxis\":{\"backgroundcolor\":\"#E5ECF6\",\"gridcolor\":\"white\",\"linecolor\":\"white\",\"showbackground\":true,\"ticks\":\"\",\"zerolinecolor\":\"white\",\"gridwidth\":2},\"yaxis\":{\"backgroundcolor\":\"#E5ECF6\",\"gridcolor\":\"white\",\"linecolor\":\"white\",\"showbackground\":true,\"ticks\":\"\",\"zerolinecolor\":\"white\",\"gridwidth\":2},\"zaxis\":{\"backgroundcolor\":\"#E5ECF6\",\"gridcolor\":\"white\",\"linecolor\":\"white\",\"showbackground\":true,\"ticks\":\"\",\"zerolinecolor\":\"white\",\"gridwidth\":2}},\"shapedefaults\":{\"line\":{\"color\":\"#2a3f5f\"}},\"annotationdefaults\":{\"arrowcolor\":\"#2a3f5f\",\"arrowhead\":0,\"arrowwidth\":1},\"geo\":{\"bgcolor\":\"white\",\"landcolor\":\"#E5ECF6\",\"subunitcolor\":\"white\",\"showland\":true,\"showlakes\":true,\"lakecolor\":\"white\"},\"title\":{\"x\":0.05},\"mapbox\":{\"style\":\"light\"}}},\"xaxis\":{\"anchor\":\"y\",\"domain\":[0.0,1.0],\"title\":{\"text\":\"\\u041e\\u0431\\u044a\\u0435\\u043c \\u0440\\u044b\\u043d\\u043a\\u0430\"}},\"yaxis\":{\"anchor\":\"x\",\"domain\":[0.0,1.0],\"title\":{\"text\":\"\\u0421\\u0440\\u0435\\u0434\\u043d\\u044f\\u044f \\u0437\\u043f\"}},\"legend\":{\"title\":{\"text\":\"\\u041d\\u0430\\u0437\\u0432\\u0430\\u043d\\u0438\\u0435 \\u0434\\u043e\\u043b\\u0436\\u043d\\u043e\\u0441\\u0442\\u0438\"},\"tracegroupgap\":0,\"itemsizing\":\"constant\"},\"title\":{\"text\":\"\\u0417\\u0430\\u0440\\u043f\\u043b\\u0430\\u0442\\u044b \\u0438 \\u0440\\u044b\\u043d\\u043e\\u043a \\u0442\\u0440\\u0443\\u0434\\u0430\"}},                        {\"responsive\": true}                    ).then(function(){\n",
       "                            \n",
       "var gd = document.getElementById('6a97060d-4a43-4660-b5a6-369778ce17d8');\n",
       "var x = new MutationObserver(function (mutations, observer) {{\n",
       "        var display = window.getComputedStyle(gd).display;\n",
       "        if (!display || display === 'none') {{\n",
       "            console.log([gd, 'removed!']);\n",
       "            Plotly.purge(gd);\n",
       "            observer.disconnect();\n",
       "        }}\n",
       "}});\n",
       "\n",
       "// Listen for the removal of the full notebook cells\n",
       "var notebookContainer = gd.closest('#notebook-container');\n",
       "if (notebookContainer) {{\n",
       "    x.observe(notebookContainer, {childList: true});\n",
       "}}\n",
       "\n",
       "// Listen for the clearing of the current output cell\n",
       "var outputEl = gd.closest('.output');\n",
       "if (outputEl) {{\n",
       "    x.observe(outputEl, {childList: true});\n",
       "}}\n",
       "\n",
       "                        })                };                });            </script>        </div>"
      ]
     },
     "metadata": {},
     "output_type": "display_data"
    }
   ],
   "source": [
    "## выбираем грейд для визуализаци\n",
    "experience_level = 'MI'\n",
    "\n",
    "## Подготовим датасет для визуализации, добавим техническу колонку, чтобы сделать кружки на визуализации большими\n",
    "df_bubble = df.loc[df['experience_level'] == experience_level].groupby(['job_title']).agg({'salary_in_usd': ['mean', 'count']}).reset_index().set_axis(['job_title', 'mean_salary', 'qty'], axis=1, inplace=False)\n",
    "df_bubble['size'] = 100\n",
    "\n",
    "\n",
    "##Рисуем график\n",
    "import plotly.express as px\n",
    "import plotly.graph_objects as go\n",
    "\n",
    "fig = px.scatter(df_bubble, x=\"qty\", y=\"mean_salary\", color=\"job_title\", size='size', hover_name=\"job_title\",labels={\n",
    "                     \"mean_salary\": \"Средняя зп\",\n",
    "                     \"qty\": \"Объем рынка\",\n",
    "                     \"job_title\": \"Название должности\"\n",
    "                 },\n",
    "                title=\"Зарплаты и рынок труда\")\n",
    "fig.show()"
   ]
  },
  {
   "cell_type": "markdown",
   "metadata": {},
   "source": [
    "## На графике выше мы видим Бабл чарт. Где для разных должностей показана объем рынка и средняя зп. Для корректности сравнения есть фильтр по грейдам, так как нужно сравнивать яблоки с яблоками.\n",
    "## Неожаданно ,что у финансовых аналитиков очень большие зп , при этом рынок специалистов не очень большой. Очень много вакансий дата инженеров, DS и аналитиков данных, при этом зп там не очень большие. По этой визуализации начинающий специалист может понять для себя каков сейчас рынок, сколько за что платят и где самые лакомые позиции"
   ]
  }
 ],
 "metadata": {
  "kernelspec": {
   "display_name": "Python 3",
   "language": "python",
   "name": "python3"
  },
  "language_info": {
   "codemirror_mode": {
    "name": "ipython",
    "version": 3
   },
   "file_extension": ".py",
   "mimetype": "text/x-python",
   "name": "python",
   "nbconvert_exporter": "python",
   "pygments_lexer": "ipython3",
   "version": "3.7.6"
  }
 },
 "nbformat": 4,
 "nbformat_minor": 4
}
